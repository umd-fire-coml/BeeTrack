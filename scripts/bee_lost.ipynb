{
  "nbformat": 4,
  "nbformat_minor": 0,
  "metadata": {
    "colab": {
      "name": "bee_lost.ipynb",
      "version": "0.3.2",
      "provenance": [],
      "collapsed_sections": []
    },
    "kernelspec": {
      "name": "python3",
      "display_name": "Python 3"
    }
  },
  "cells": [
    {
      "metadata": {
        "id": "IAn1jYwGJJeh",
        "colab_type": "code",
        "colab": {
          "base_uri": "https://localhost:8080/",
          "height": 34
        },
        "outputId": "38870364-3ddc-4710-ee4a-22e478ea46c0"
      },
      "cell_type": "code",
      "source": [
        "import keras.backend as K"
      ],
      "execution_count": 1,
      "outputs": [
        {
          "output_type": "stream",
          "text": [
            "Using TensorFlow backend.\n"
          ],
          "name": "stderr"
        }
      ]
    },
    {
      "metadata": {
        "id": "zXVZVJe-LDjn",
        "colab_type": "code",
        "colab": {}
      },
      "cell_type": "code",
      "source": [
        "import tensorflow as tf"
      ],
      "execution_count": 0,
      "outputs": []
    },
    {
      "metadata": {
        "id": "isBt2jjcI4L7",
        "colab_type": "code",
        "colab": {}
      },
      "cell_type": "code",
      "source": [
        "import numpy\n",
        "import skimage.draw"
      ],
      "execution_count": 0,
      "outputs": []
    },
    {
      "metadata": {
        "id": "8iv3LxTyLfl2",
        "colab_type": "code",
        "colab": {}
      },
      "cell_type": "code",
      "source": [
        "tf.enable_eager_execution()"
      ],
      "execution_count": 0,
      "outputs": []
    },
    {
      "metadata": {
        "id": "dp0B4IvX5mob",
        "colab_type": "text"
      },
      "cell_type": "markdown",
      "source": [
        "version 4"
      ]
    },
    {
      "metadata": {
        "id": "mNQIhYra5b7K",
        "colab_type": "code",
        "colab": {}
      },
      "cell_type": "code",
      "source": [
        "def mrcnn_mask_loss_graph(target_masks, target_class_ids, pred_masks):\n",
        "    \"\"\"Mask binary cross-entropy loss for the masks head.\n",
        "    target_masks: [batch, num_rois, height, width].\n",
        "        A float32 tensor of values 0 or 1. Uses zero padding to fill array.\n",
        "    target_class_ids: [batch, num_rois]. Integer class IDs. Zero padded.\n",
        "    pred_masks: [batch, proposals, height, width, num_classes] float32 tensor\n",
        "                with values from 0 to 1.\n",
        "    \"\"\"\n",
        "    # Reshape for simplicity. Merge first two dimensions into one.\n",
        "    target_class_ids = K.reshape(target_class_ids, (-1,))\n",
        "    mask_shape = tf.shape(target_masks)\n",
        "    target_masks = K.reshape(target_masks, (-1, mask_shape[2], mask_shape[3]))\n",
        "    pred_shape = tf.shape(pred_masks)\n",
        "    pred_masks = K.reshape(pred_masks,\n",
        "                           (-1, pred_shape[2], pred_shape[3], pred_shape[4]))\n",
        "    # Permute predicted masks to [N, num_classes, height, width]\n",
        "    pred_masks = tf.transpose(pred_masks, [0, 3, 1, 2])\n",
        "\n",
        "    # Only positive ROIs contribute to the loss. And only\n",
        "    # the class specific mask of each ROI.\n",
        "    positive_ix = tf.where(target_class_ids > 0)[:, 0]\n",
        "    positive_class_ids = tf.cast(\n",
        "        tf.gather(target_class_ids, positive_ix), tf.int64)\n",
        "    indices = tf.stack([positive_ix, positive_class_ids], axis=1)\n",
        "\n",
        "    # Gather the masks (predicted and true) that contribute to loss\n",
        "    y_true = tf.gather(target_masks, positive_ix)\n",
        "    y_pred = tf.gather_nd(pred_masks, indices)\n",
        "    \n",
        "    m_zer = tf.constant(0.0, dtype=tf.float32)\n",
        "    m_one = tf.constant(1.0, dtype=tf.float32)\n",
        "    m_sev = tf.constant(0.7, dtype=tf.float32)\n",
        "    outside = tf.multiply(tf.subtract(m_one, y_true), y_pred)\n",
        "    inside = tf.multiply(y_true, y_pred)\n",
        "    inside_ratio = tf.subtract(m_one, tf.minimum(tf.divide(tf.reduce_sum(inside), tf.multiply(tf.reduce_sum(y_true), m_sev)), m_one))\n",
        "\n",
        "    #sum reduce the inside\n",
        "    #compare against .7 * sum reduce actual GT\n",
        "    #multiply against BCE\n",
        "    \n",
        "    \n",
        "    # Compute binary cross entropy. If no positive ROIs, then return 0.\n",
        "    # shape: [batch, roi, num_classes]\n",
        "    loss = K.switch(tf.size(y_true) > 0,\n",
        "                    K.binary_crossentropy(target=tf.zeros_like(outside), output=outside),\n",
        "                    tf.constant(0.0))\n",
        "    loss = K.mean(loss)\n",
        "    \n",
        "    loss_in = K.switch(tf.size(y_true) > 0,\n",
        "                    K.binary_crossentropy(target=y_pred, output=inside),\n",
        "                    tf.constant(0.0))\n",
        "    loss_in = K.mean(loss_in)\n",
        "\n",
        "#     print(loss)\n",
        "#     print(outside)\n",
        "#     lolz = tf.multiply(tf.cast(factor, tf.float32), loss)\n",
        "#     print(lolz)\n",
        "    return tf.add(loss, tf.multiply(inside_ratio, loss_in))"
      ],
      "execution_count": 0,
      "outputs": []
    },
    {
      "metadata": {
        "id": "PzgN6FC0S_nt",
        "colab_type": "code",
        "outputId": "4b45c1c3-83f9-4765-9698-f311c721b9a8",
        "colab": {
          "base_uri": "https://localhost:8080/",
          "height": 374
        }
      },
      "cell_type": "code",
      "source": [
        "img = numpy.zeros((20, 20), dtype=numpy.uint8)\n",
        "rr, cc = skimage.draw.circle(16, 9, 4)\n",
        "img[rr, cc] = 1\n",
        "rr, cc = skimage.draw.circle(9, 9, 4)\n",
        "img[rr, cc] = 2\n",
        "img"
      ],
      "execution_count": 0,
      "outputs": [
        {
          "output_type": "execute_result",
          "data": {
            "text/plain": [
              "array([[0, 0, 0, 0, 0, 0, 0, 0, 0, 0, 0, 0, 0, 0, 0, 0, 0, 0, 0, 0],\n",
              "       [0, 0, 0, 0, 0, 0, 0, 0, 0, 0, 0, 0, 0, 0, 0, 0, 0, 0, 0, 0],\n",
              "       [0, 0, 0, 0, 0, 0, 0, 0, 0, 0, 0, 0, 0, 0, 0, 0, 0, 0, 0, 0],\n",
              "       [0, 0, 0, 0, 0, 0, 0, 0, 0, 0, 0, 0, 0, 0, 0, 0, 0, 0, 0, 0],\n",
              "       [0, 0, 0, 0, 0, 0, 0, 0, 0, 0, 0, 0, 0, 0, 0, 0, 0, 0, 0, 0],\n",
              "       [0, 0, 0, 0, 0, 0, 0, 0, 0, 0, 0, 0, 0, 0, 0, 0, 0, 0, 0, 0],\n",
              "       [0, 0, 0, 0, 0, 0, 0, 2, 2, 2, 2, 2, 0, 0, 0, 0, 0, 0, 0, 0],\n",
              "       [0, 0, 0, 0, 0, 0, 2, 2, 2, 2, 2, 2, 2, 0, 0, 0, 0, 0, 0, 0],\n",
              "       [0, 0, 0, 0, 0, 0, 2, 2, 2, 2, 2, 2, 2, 0, 0, 0, 0, 0, 0, 0],\n",
              "       [0, 0, 0, 0, 0, 0, 2, 2, 2, 2, 2, 2, 2, 0, 0, 0, 0, 0, 0, 0],\n",
              "       [0, 0, 0, 0, 0, 0, 2, 2, 2, 2, 2, 2, 2, 0, 0, 0, 0, 0, 0, 0],\n",
              "       [0, 0, 0, 0, 0, 0, 2, 2, 2, 2, 2, 2, 2, 0, 0, 0, 0, 0, 0, 0],\n",
              "       [0, 0, 0, 0, 0, 0, 0, 2, 2, 2, 2, 2, 0, 0, 0, 0, 0, 0, 0, 0],\n",
              "       [0, 0, 0, 0, 0, 0, 0, 1, 1, 1, 1, 1, 0, 0, 0, 0, 0, 0, 0, 0],\n",
              "       [0, 0, 0, 0, 0, 0, 1, 1, 1, 1, 1, 1, 1, 0, 0, 0, 0, 0, 0, 0],\n",
              "       [0, 0, 0, 0, 0, 0, 1, 1, 1, 1, 1, 1, 1, 0, 0, 0, 0, 0, 0, 0],\n",
              "       [0, 0, 0, 0, 0, 0, 1, 1, 1, 1, 1, 1, 1, 0, 0, 0, 0, 0, 0, 0],\n",
              "       [0, 0, 0, 0, 0, 0, 1, 1, 1, 1, 1, 1, 1, 0, 0, 0, 0, 0, 0, 0],\n",
              "       [0, 0, 0, 0, 0, 0, 1, 1, 1, 1, 1, 1, 1, 0, 0, 0, 0, 0, 0, 0],\n",
              "       [0, 0, 0, 0, 0, 0, 0, 1, 1, 1, 1, 1, 0, 0, 0, 0, 0, 0, 0, 0]],\n",
              "      dtype=uint8)"
            ]
          },
          "metadata": {
            "tags": []
          },
          "execution_count": 12
        }
      ]
    },
    {
      "metadata": {
        "id": "X0qMejsNUpUa",
        "colab_type": "code",
        "colab": {
          "base_uri": "https://localhost:8080/",
          "height": 1547
        },
        "outputId": "73b33005-98b1-46ed-ef81-cc2c083cf1cf"
      },
      "cell_type": "code",
      "source": [
        "gt = numpy.zeros((1, 1, 20, 20), dtype=numpy.float32)\n",
        "rr, cc = skimage.draw.circle(16, 9, 4)\n",
        "gt[0, 0, rr, cc] = 1\n",
        "c_ids = numpy.zeros((1, 1), dtype=numpy.float32)\n",
        "c_ids[0, 0] = 1\n",
        "pred = numpy.zeros((1, 1, 20, 20, 2), dtype=numpy.float32)\n",
        "for g in range(1, 11):\n",
        "  print('confidence %f' % (g / 10))\n",
        "  for i in range(9, 17):\n",
        "\n",
        "    rr, cc = skimage.draw.circle(i, 9, 4)\n",
        "    pred[0, 0, rr, cc, 1] = g / 10\n",
        "    #print(pred[0, 0, :, :, 1])\n",
        "    print(mrcnn_mask_loss_graph(gt, c_ids, pred))\n",
        "    pred[0, 0, :, :, 1] = 0"
      ],
      "execution_count": 32,
      "outputs": [
        {
          "output_type": "stream",
          "text": [
            "confidence 0.100000\n",
            "tf.Tensor(0.19318178, shape=(), dtype=float32)\n",
            "tf.Tensor(0.17315778, shape=(), dtype=float32)\n",
            "tf.Tensor(0.15364437, shape=(), dtype=float32)\n",
            "tf.Tensor(0.12718341, shape=(), dtype=float32)\n",
            "tf.Tensor(0.10172323, shape=(), dtype=float32)\n",
            "tf.Tensor(0.077263854, shape=(), dtype=float32)\n",
            "tf.Tensor(0.053805266, shape=(), dtype=float32)\n",
            "tf.Tensor(0.031347465, shape=(), dtype=float32)\n",
            "confidence 0.200000\n",
            "tf.Tensor(0.38776094, shape=(), dtype=float32)\n",
            "tf.Tensor(0.3404992, shape=(), dtype=float32)\n",
            "tf.Tensor(0.29539868, shape=(), dtype=float32)\n",
            "tf.Tensor(0.23588891, shape=(), dtype=float32)\n",
            "tf.Tensor(0.18061529, shape=(), dtype=float32)\n",
            "tf.Tensor(0.12957776, shape=(), dtype=float32)\n",
            "tf.Tensor(0.08277636, shape=(), dtype=float32)\n",
            "tf.Tensor(0.04021107, shape=(), dtype=float32)\n",
            "confidence 0.300000\n",
            "tf.Tensor(0.58411175, shape=(), dtype=float32)\n",
            "tf.Tensor(0.50345683, shape=(), dtype=float32)\n",
            "tf.Tensor(0.4278311, shape=(), dtype=float32)\n",
            "tf.Tensor(0.33040428, shape=(), dtype=float32)\n",
            "tf.Tensor(0.24283475, shape=(), dtype=float32)\n",
            "tf.Tensor(0.16512252, shape=(), dtype=float32)\n",
            "tf.Tensor(0.09726759, shape=(), dtype=float32)\n",
            "tf.Tensor(0.03926999, shape=(), dtype=float32)\n",
            "confidence 0.400000\n",
            "tf.Tensor(0.78278226, shape=(), dtype=float32)\n",
            "tf.Tensor(0.6627501, shape=(), dtype=float32)\n",
            "tf.Tensor(0.55188346, shape=(), dtype=float32)\n",
            "tf.Tensor(0.41206807, shape=(), dtype=float32)\n",
            "tf.Tensor(0.29021686, shape=(), dtype=float32)\n",
            "tf.Tensor(0.18632999, shape=(), dtype=float32)\n",
            "tf.Tensor(0.1004073, shape=(), dtype=float32)\n",
            "tf.Tensor(0.032448914, shape=(), dtype=float32)\n",
            "confidence 0.500000\n",
            "tf.Tensor(0.984622, shape=(), dtype=float32)\n",
            "tf.Tensor(0.81923556, shape=(), dtype=float32)\n",
            "tf.Tensor(0.66846395, shape=(), dtype=float32)\n",
            "tf.Tensor(0.48193678, shape=(), dtype=float32)\n",
            "tf.Tensor(0.32405487, shape=(), dtype=float32)\n",
            "tf.Tensor(0.19481805, shape=(), dtype=float32)\n",
            "tf.Tensor(0.09422637, shape=(), dtype=float32)\n",
            "tf.Tensor(0.022279851, shape=(), dtype=float32)\n",
            "confidence 0.600000\n",
            "tf.Tensor(1.1910542, shape=(), dtype=float32)\n",
            "tf.Tensor(0.9742229, shape=(), dtype=float32)\n",
            "tf.Tensor(0.7788151, shape=(), dtype=float32)\n",
            "tf.Tensor(0.54123545, shape=(), dtype=float32)\n",
            "tf.Tensor(0.34564573, shape=(), dtype=float32)\n",
            "tf.Tensor(0.19204603, shape=(), dtype=float32)\n",
            "tf.Tensor(0.080436245, shape=(), dtype=float32)\n",
            "tf.Tensor(0.010816371, shape=(), dtype=float32)\n",
            "confidence 0.700000\n",
            "tf.Tensor(1.404747, shape=(), dtype=float32)\n",
            "tf.Tensor(1.1300883, shape=(), dtype=float32)\n",
            "tf.Tensor(0.88507366, shape=(), dtype=float32)\n",
            "tf.Tensor(0.5918549, shape=(), dtype=float32)\n",
            "tf.Tensor(0.35673818, shape=(), dtype=float32)\n",
            "tf.Tensor(0.17972344, shape=(), dtype=float32)\n",
            "tf.Tensor(0.06081079, shape=(), dtype=float32)\n",
            "tf.Tensor(1.0409619e-07, shape=(), dtype=float32)\n",
            "confidence 0.800000\n",
            "tf.Tensor(1.6316905, shape=(), dtype=float32)\n",
            "tf.Tensor(1.292113, shape=(), dtype=float32)\n",
            "tf.Tensor(0.99188167, shape=(), dtype=float32)\n",
            "tf.Tensor(0.6376595, shape=(), dtype=float32)\n",
            "tf.Tensor(0.360556, shape=(), dtype=float32)\n",
            "tf.Tensor(0.16057135, shape=(), dtype=float32)\n",
            "tf.Tensor(0.037705265, shape=(), dtype=float32)\n",
            "tf.Tensor(1.00000015e-07, shape=(), dtype=float32)\n",
            "confidence 0.900000\n",
            "tf.Tensor(1.8909981, shape=(), dtype=float32)\n",
            "tf.Tensor(1.4771376, shape=(), dtype=float32)\n",
            "tf.Tensor(1.1139243, shape=(), dtype=float32)\n",
            "tf.Tensor(0.6905127, shape=(), dtype=float32)\n",
            "tf.Tensor(0.36636966, shape=(), dtype=float32)\n",
            "tf.Tensor(0.14149499, shape=(), dtype=float32)\n",
            "tf.Tensor(0.040295314, shape=(), dtype=float32)\n",
            "tf.Tensor(1.00000015e-07, shape=(), dtype=float32)\n",
            "confidence 1.000000\n",
            "tf.Tensor(3.606804, shape=(), dtype=float32)\n",
            "tf.Tensor(2.950205, shape=(), dtype=float32)\n",
            "tf.Tensor(2.357567, shape=(), dtype=float32)\n",
            "tf.Tensor(1.6353278, shape=(), dtype=float32)\n",
            "tf.Tensor(1.0384514, shape=(), dtype=float32)\n",
            "tf.Tensor(0.5669381, shape=(), dtype=float32)\n",
            "tf.Tensor(0.27899182, shape=(), dtype=float32)\n",
            "tf.Tensor(1.00000015e-07, shape=(), dtype=float32)\n"
          ],
          "name": "stdout"
        }
      ]
    },
    {
      "metadata": {
        "id": "9ukEIFx45g8J",
        "colab_type": "text"
      },
      "cell_type": "markdown",
      "source": [
        "version 0"
      ]
    },
    {
      "metadata": {
        "id": "gHvvoRn8lPP1",
        "colab_type": "code",
        "colab": {}
      },
      "cell_type": "code",
      "source": [
        "def mrcnn_mask_loss_graph(target_masks, target_class_ids, pred_masks):\n",
        "    \"\"\"Mask binary cross-entropy loss for the masks head.\n",
        "    target_masks: [batch, num_rois, height, width].\n",
        "        A float32 tensor of values 0 or 1. Uses zero padding to fill array.\n",
        "    target_class_ids: [batch, num_rois]. Integer class IDs. Zero padded.\n",
        "    pred_masks: [batch, proposals, height, width, num_classes] float32 tensor\n",
        "                with values from 0 to 1.\n",
        "    \"\"\"\n",
        "    # Reshape for simplicity. Merge first two dimensions into one.\n",
        "    target_class_ids = K.reshape(target_class_ids, (-1,))\n",
        "    mask_shape = tf.shape(target_masks)\n",
        "    target_masks = K.reshape(target_masks, (-1, mask_shape[2], mask_shape[3]))\n",
        "    pred_shape = tf.shape(pred_masks)\n",
        "    pred_masks = K.reshape(pred_masks,\n",
        "                           (-1, pred_shape[2], pred_shape[3], pred_shape[4]))\n",
        "    # Permute predicted masks to [N, num_classes, height, width]\n",
        "    pred_masks = tf.transpose(pred_masks, [0, 3, 1, 2])\n",
        "\n",
        "    # Only positive ROIs contribute to the loss. And only\n",
        "    # the class specific mask of each ROI.\n",
        "    positive_ix = tf.where(target_class_ids > 0)[:, 0]\n",
        "    positive_class_ids = tf.cast(\n",
        "        tf.gather(target_class_ids, positive_ix), tf.int64)\n",
        "    indices = tf.stack([positive_ix, positive_class_ids], axis=1)\n",
        "\n",
        "    # Gather the masks (predicted and true) that contribute to loss\n",
        "    y_true = tf.gather(target_masks, positive_ix)\n",
        "    y_pred = tf.gather_nd(pred_masks, indices)\n",
        "    \n",
        "    m_zer = tf.constant(0.0, dtype=tf.float32)\n",
        "    m_one = tf.constant(1.0, dtype=tf.float32)\n",
        "    m_sev = tf.constant(0.7, dtype=tf.float32)\n",
        "    outside = tf.count_nonzero(tf.multiply(tf.subtract(m_one, y_true), y_pred), dtype=tf.float32)\n",
        "    inside = tf.divide(tf.count_nonzero(tf.multiply(y_true, y_pred), dtype=tf.float32), tf.count_nonzero(y_true, dtype=tf.float32))\n",
        "    factor = tf.cond(tf.less(inside, m_sev), lambda: tf.subtract(m_one, tf.divide(inside, m_sev)), lambda: m_zer)\n",
        "\n",
        "    # Compute binary cross entropy. If no positive ROIs, then return 0.\n",
        "    # shape: [batch, roi, num_classes]\n",
        "    loss = K.switch(tf.size(y_true) > 0,\n",
        "                    K.binary_crossentropy(target=y_true, output=y_pred),\n",
        "                    tf.constant(0.0))\n",
        "    loss = K.mean(loss)\n",
        "#     print(loss)\n",
        "#     print(outside)\n",
        "#     lolz = tf.multiply(tf.cast(factor, tf.float32), loss)\n",
        "#     print(lolz)\n",
        "    return tf.add(outside, tf.multiply(factor, loss))"
      ],
      "execution_count": 0,
      "outputs": []
    },
    {
      "metadata": {
        "id": "krduo_Y1lUQe",
        "colab_type": "text"
      },
      "cell_type": "markdown",
      "source": [
        "https://stackoverflow.com/questions/44657388/how-to-replace-certain-values-in-tensorflow-tensor-with-the-values-of-the-other?rq=1"
      ]
    },
    {
      "metadata": {
        "id": "1IkCQLUWlUqu",
        "colab_type": "text"
      },
      "cell_type": "markdown",
      "source": [
        "to calculate area masked but not in ground truth, multiply zeroed GT with predicted and count non zeros\n",
        "\n",
        "if that is zero, then compute percentage P, how much of the ground truth is predicted.\n",
        "\n",
        "substract by 100\n",
        "if 100-P > 30, then apply binary cross entropy?\n",
        "\n",
        "WIP TODO"
      ]
    },
    {
      "metadata": {
        "id": "9p0DSF46lt8M",
        "colab_type": "text"
      },
      "cell_type": "markdown",
      "source": [
        "https://stackoverflow.com/questions/35833011/how-to-add-if-condition-in-a-tensorflow-graph"
      ]
    },
    {
      "metadata": {
        "id": "nbrtJoavJPC5",
        "colab_type": "code",
        "colab": {}
      },
      "cell_type": "code",
      "source": [
        "gt = numpy.zeros((1, 1, 28, 28), dtype=numpy.float32)\n",
        "c_ids = numpy.zeros((1, 1), dtype=numpy.float32)\n",
        "c_ids[0, 0] = 1\n",
        "pred = numpy.zeros((1, 1, 28, 28, 2), dtype=numpy.float32)\n",
        "pred[0, 0, :, :, 0] = 0\n",
        "pred[0, 0, :, :, 1] = 1"
      ],
      "execution_count": 0,
      "outputs": []
    },
    {
      "metadata": {
        "id": "pjgNQmDqK8MX",
        "colab_type": "code",
        "colab": {}
      },
      "cell_type": "code",
      "source": [
        "lmao = mrcnn_mask_loss_graph(gt, c_ids, pred)"
      ],
      "execution_count": 0,
      "outputs": []
    },
    {
      "metadata": {
        "id": "fiWIEGyhLbVm",
        "colab_type": "code",
        "outputId": "f790343d-45d5-4dc1-ed7c-252e9d9c0989",
        "colab": {
          "base_uri": "https://localhost:8080/",
          "height": 34
        }
      },
      "cell_type": "code",
      "source": [
        "type(lmao)"
      ],
      "execution_count": 0,
      "outputs": [
        {
          "output_type": "execute_result",
          "data": {
            "text/plain": [
              "tensorflow.python.framework.ops.EagerTensor"
            ]
          },
          "metadata": {
            "tags": []
          },
          "execution_count": 13
        }
      ]
    },
    {
      "metadata": {
        "id": "krO_Ye1kL5Jd",
        "colab_type": "code",
        "outputId": "b9e0a958-d20a-4059-8848-0456ef5e6c8c",
        "colab": {
          "base_uri": "https://localhost:8080/",
          "height": 34
        }
      },
      "cell_type": "code",
      "source": [
        "lmao"
      ],
      "execution_count": 0,
      "outputs": [
        {
          "output_type": "execute_result",
          "data": {
            "text/plain": [
              "<tf.Tensor: id=261, shape=(), dtype=float32, numpy=15.942384>"
            ]
          },
          "metadata": {
            "tags": []
          },
          "execution_count": 13
        }
      ]
    },
    {
      "metadata": {
        "id": "cSnIyICHNQMb",
        "colab_type": "code",
        "colab": {}
      },
      "cell_type": "code",
      "source": [
        "#tf.print()"
      ],
      "execution_count": 0,
      "outputs": []
    },
    {
      "metadata": {
        "id": "ILQFLk33OTha",
        "colab_type": "code",
        "colab": {}
      },
      "cell_type": "code",
      "source": [
        "import sys"
      ],
      "execution_count": 0,
      "outputs": []
    },
    {
      "metadata": {
        "id": "ZhBT-cEiOUsj",
        "colab_type": "code",
        "colab": {}
      },
      "cell_type": "code",
      "source": [
        "tf.enable_eager_execution()\n",
        "\n",
        "@tf.contrib.eager.defun\n",
        "def f():\n",
        "    tensor = tf.range(10)\n",
        "    tf.print(tensor, output_stream=sys.stderr)\n",
        "    return tensor\n",
        "\n",
        "range_tensor = f()"
      ],
      "execution_count": 0,
      "outputs": []
    },
    {
      "metadata": {
        "id": "wg6Bvdv-OrB5",
        "colab_type": "code",
        "outputId": "8bb66a04-697c-4f57-80f5-77580327c1ad",
        "colab": {
          "base_uri": "https://localhost:8080/",
          "height": 34
        }
      },
      "cell_type": "code",
      "source": [
        "range_tensor"
      ],
      "execution_count": 0,
      "outputs": [
        {
          "output_type": "execute_result",
          "data": {
            "text/plain": [
              "<tf.Tensor: id=9, shape=(10,), dtype=int32, numpy=array([0, 1, 2, 3, 4, 5, 6, 7, 8, 9], dtype=int32)>"
            ]
          },
          "metadata": {
            "tags": []
          },
          "execution_count": 7
        }
      ]
    },
    {
      "metadata": {
        "id": "CyJJGjAlONjb",
        "colab_type": "code",
        "colab": {}
      },
      "cell_type": "code",
      "source": [
        "tf.enable_eager_execution()\n",
        "tensor = tf.range(10)\n",
        "tf.print(tensor, output_stream=sys.stderr)"
      ],
      "execution_count": 0,
      "outputs": []
    },
    {
      "metadata": {
        "id": "LiWrYnNrNjzK",
        "colab_type": "code",
        "colab": {}
      },
      "cell_type": "code",
      "source": [
        "sess = K.get_session()\n",
        "with sess.as_default():\n",
        "  tensor = tf.range(10)\n",
        "  print_op = tf.print(tensor)\n",
        "  with tf.control_dependencies([print_op]):\n",
        "    out = tf.add(tensor, tensor)\n",
        "  sess.run(out)"
      ],
      "execution_count": 0,
      "outputs": []
    },
    {
      "metadata": {
        "id": "_fELlri6MjtE",
        "colab_type": "code",
        "colab": {}
      },
      "cell_type": "code",
      "source": [
        "# sess = tf.Session()\n",
        "# with sess.as_default():\n",
        "#     lmao = mrcnn_mask_loss_graph(gt, c_ids, pred)\n",
        "#     print_op = tf.print(tensor)\n",
        "#     with tf.control_dependencies([print_op]):\n",
        "#       out = tf.add(tensor, tensor)\n",
        "#     sess.run(out)"
      ],
      "execution_count": 0,
      "outputs": []
    },
    {
      "metadata": {
        "id": "w_7f3wYK5Rmz",
        "colab_type": "text"
      },
      "cell_type": "markdown",
      "source": [
        "version 1"
      ]
    },
    {
      "metadata": {
        "id": "DmTf-81KjQHw",
        "colab_type": "code",
        "colab": {}
      },
      "cell_type": "code",
      "source": [
        "def mrcnn_mask_loss_graph(target_masks, target_class_ids, pred_masks):\n",
        "    \"\"\"Mask binary cross-entropy loss for the masks head.\n",
        "\n",
        "    target_masks: [batch, num_rois, height, width].\n",
        "        A float32 tensor of values 0 or 1. Uses zero padding to fill array.\n",
        "    target_class_ids: [batch, num_rois]. Integer class IDs. Zero padded.\n",
        "    pred_masks: [batch, proposals, height, width, num_classes] float32 tensor\n",
        "                with values from 0 to 1.\n",
        "    \"\"\"\n",
        "    # Reshape for simplicity. Merge first two dimensions into one.\n",
        "    target_class_ids = K.reshape(target_class_ids, (-1,))\n",
        "    mask_shape = tf.shape(target_masks)\n",
        "    target_masks = K.reshape(target_masks, (-1, mask_shape[2], mask_shape[3]))\n",
        "    pred_shape = tf.shape(pred_masks)\n",
        "    pred_masks = K.reshape(pred_masks,\n",
        "                           (-1, pred_shape[2], pred_shape[3], pred_shape[4]))\n",
        "    # Permute predicted masks to [N, num_classes, height, width]\n",
        "    pred_masks = tf.transpose(pred_masks, [0, 3, 1, 2])\n",
        "\n",
        "    # Only positive ROIs contribute to the loss. And only\n",
        "    # the class specific mask of each ROI.\n",
        "    positive_ix = tf.where(target_class_ids > 0)[:, 0]\n",
        "    positive_class_ids = tf.cast(\n",
        "        tf.gather(target_class_ids, positive_ix), tf.int64)\n",
        "    indices = tf.stack([positive_ix, positive_class_ids], axis=1)\n",
        "\n",
        "\t#################\n",
        "\t# CUSTOM LOSS CODE BY DEREK ZHANG\n",
        "\t# BCE = Binary Cross Entropy\n",
        "\t# return (BCE outside GT mask) + (BCE inside GT mask) * ((percent GT mask predicted < 70%) ? (percent GT mask predicted / 70%) : 0)\n",
        "\t#################\n",
        "\n",
        "\tm_zer = tf.constant(0.0, dtype=tf.float32)\n",
        "    m_one = tf.constant(1.0, dtype=tf.float32)\n",
        "    m_sev = tf.constant(0.7, dtype=tf.float32)\n",
        "    outside = tf.multiply(tf.subtract(m_one, y_true), y_pred)\n",
        "    inside = tf.multiply(y_true, y_pred)\n",
        "    inside_ratio = tf.divide(tf.count_nonzero(inside, dtype=tf.float32), tf.count_nonzero(y_true, dtype=tf.float32))\n",
        "    factor = tf.cond(tf.less(inside_ratio, m_sev), lambda: tf.subtract(m_one, tf.divide(inside_ratio, m_sev)), lambda: m_zer)\n",
        "\n",
        "    # Compute binary cross entropy. If no positive ROIs, then return 0.\n",
        "    # shape: [batch, roi, num_classes]\n",
        "    loss = K.switch(tf.size(y_true) > 0,\n",
        "                    K.binary_crossentropy(target=tf.zeros_like(outside), output=outside),\n",
        "                    tf.constant(0.0))\n",
        "    loss = K.mean(loss)\n",
        "\n",
        "    loss_in = K.switch(tf.size(y_true) > 0,\n",
        "                    K.binary_crossentropy(target=y_pred, output=inside),\n",
        "                    tf.constant(0.0))\n",
        "    loss_in = K.mean(loss_in)\n",
        "\n",
        "    return tf.add(loss, tf.multiply(factor, loss_in))"
      ],
      "execution_count": 0,
      "outputs": []
    },
    {
      "metadata": {
        "id": "QmQo_VFk5Tiy",
        "colab_type": "text"
      },
      "cell_type": "markdown",
      "source": [
        "failed version 3"
      ]
    },
    {
      "metadata": {
        "id": "p2ygd6xQfq8m",
        "colab_type": "code",
        "colab": {}
      },
      "cell_type": "code",
      "source": [
        "def not_good_enough_mask(inside_ratio, y_true, y_pred, inside):\n",
        "\n",
        "    m_one = tf.constant(1.0, dtype=tf.float32)\n",
        "    m_sev = tf.constant(0.7, dtype=tf.float32)\n",
        "    factor = tf.subtract(m_one, tf.divide(inside_ratio, m_sev))\n",
        "    loss_in = K.switch(tf.size(y_true) > 0,\n",
        "                    K.binary_crossentropy(target=y_pred, output=inside),\n",
        "                    tf.constant(0.0))\n",
        "    loss_in = K.mean(loss_in)\n",
        "    return tf.multiply(factor, loss_in)\n",
        "  #min(x/0.7, 1)"
      ],
      "execution_count": 0,
      "outputs": []
    },
    {
      "metadata": {
        "id": "ztOAZNemfINm",
        "colab_type": "code",
        "colab": {}
      },
      "cell_type": "code",
      "source": [
        "def good_enough_mask(inside):\n",
        "  \n",
        "  m_one = tf.constant(1.0, dtype=tf.float32)\n",
        "  \n",
        "  return tf.subtract(m_one, K.mean(inside))"
      ],
      "execution_count": 0,
      "outputs": []
    },
    {
      "metadata": {
        "id": "9nxDhcHMlCQE",
        "colab_type": "code",
        "colab": {}
      },
      "cell_type": "code",
      "source": [
        "def mrcnn_mask_loss_graph(target_masks, target_class_ids, pred_masks):\n",
        "    \"\"\"Mask binary cross-entropy loss for the masks head.\n",
        "\n",
        "    target_masks: [batch, num_rois, height, width].\n",
        "        A float32 tensor of values 0 or 1. Uses zero padding to fill array.\n",
        "    target_class_ids: [batch, num_rois]. Integer class IDs. Zero padded.\n",
        "    pred_masks: [batch, proposals, height, width, num_classes] float32 tensor\n",
        "                with values from 0 to 1.\n",
        "    \"\"\"\n",
        "    # Reshape for simplicity. Merge first two dimensions into one.\n",
        "    target_class_ids = K.reshape(target_class_ids, (-1,))\n",
        "    mask_shape = tf.shape(target_masks)\n",
        "    target_masks = K.reshape(target_masks, (-1, mask_shape[2], mask_shape[3]))\n",
        "    pred_shape = tf.shape(pred_masks)\n",
        "    pred_masks = K.reshape(pred_masks,\n",
        "                           (-1, pred_shape[2], pred_shape[3], pred_shape[4]))\n",
        "    # Permute predicted masks to [N, num_classes, height, width]\n",
        "    pred_masks = tf.transpose(pred_masks, [0, 3, 1, 2])\n",
        "\n",
        "    # Only positive ROIs contribute to the loss. And only\n",
        "    # the class specific mask of each ROI.\n",
        "    positive_ix = tf.where(target_class_ids > 0)[:, 0]\n",
        "    positive_class_ids = tf.cast(\n",
        "        tf.gather(target_class_ids, positive_ix), tf.int64)\n",
        "    indices = tf.stack([positive_ix, positive_class_ids], axis=1)\n",
        "    \n",
        "    # Gather the masks (predicted and true) that contribute to loss\n",
        "    y_true = tf.gather(target_masks, positive_ix)\n",
        "    y_pred = tf.gather_nd(pred_masks, indices)\n",
        "\n",
        "    #################\n",
        "    # CUSTOM LOSS CODE BY DEREK ZHANG\n",
        "    # BCE = Binary Cross Entropy\n",
        "    # return (BCE outside GT mask) + (BCE inside GT mask) * ((percent GT mask predicted < 70%) ? (percent GT mask predicted / 70%) : 0)\n",
        "    #################\n",
        "\n",
        "    #m_zer = tf.constant(0.0, dtype=tf.float32)\n",
        "    m_one = tf.constant(1.0, dtype=tf.float32)\n",
        "    m_sev = tf.constant(0.7, dtype=tf.float32)\n",
        "    outside = tf.multiply(tf.subtract(m_one, y_true), y_pred)\n",
        "    inside = tf.multiply(y_true, y_pred)\n",
        "    inside_ratio = tf.divide(tf.count_nonzero(inside, dtype=tf.float32), tf.count_nonzero(y_true, dtype=tf.float32))\n",
        "    inside_stuff = tf.cond(tf.less(inside_ratio, m_sev), not_good_enough_mask(inside_ratio, y_true, y_pred, inside), lambda: good_enough_mask(inside))\n",
        "\n",
        "    # Compute binary cross entropy. If no positive ROIs, then return 0.\n",
        "    # shape: [batch, roi, num_classes]\n",
        "    loss = K.switch(tf.size(y_true) > 0,\n",
        "                    K.binary_crossentropy(target=tf.zeros_like(outside), output=outside),\n",
        "                    tf.constant(0.0))\n",
        "    loss = K.mean(loss)\n",
        "\n",
        "    return tf.add(loss, inside_stuff)"
      ],
      "execution_count": 0,
      "outputs": []
    },
    {
      "metadata": {
        "id": "fsewbwG15WRo",
        "colab_type": "text"
      },
      "cell_type": "markdown",
      "source": [
        "failed version 2"
      ]
    },
    {
      "metadata": {
        "id": "aSSMhEoUQ14h",
        "colab_type": "code",
        "colab": {}
      },
      "cell_type": "code",
      "source": [
        "def mrcnn_mask_loss_graph(target_masks, target_class_ids, pred_masks):\n",
        "    \"\"\"Mask binary cross-entropy loss for the masks head.\n",
        "    target_masks: [batch, num_rois, height, width].\n",
        "        A float32 tensor of values 0 or 1. Uses zero padding to fill array.\n",
        "    target_class_ids: [batch, num_rois]. Integer class IDs. Zero padded.\n",
        "    pred_masks: [batch, proposals, height, width, num_classes] float32 tensor\n",
        "                with values from 0 to 1.\n",
        "    \"\"\"\n",
        "    # Reshape for simplicity. Merge first two dimensions into one.\n",
        "    target_class_ids = K.reshape(target_class_ids, (-1,))\n",
        "    mask_shape = tf.shape(target_masks)\n",
        "    target_masks = K.reshape(target_masks, (-1, mask_shape[2], mask_shape[3]))\n",
        "    pred_shape = tf.shape(pred_masks)\n",
        "    pred_masks = K.reshape(pred_masks,\n",
        "                           (-1, pred_shape[2], pred_shape[3], pred_shape[4]))\n",
        "    # Permute predicted masks to [N, num_classes, height, width]\n",
        "    pred_masks = tf.transpose(pred_masks, [0, 3, 1, 2])\n",
        "\n",
        "    # Only positive ROIs contribute to the loss. And only\n",
        "    # the class specific mask of each ROI.\n",
        "    positive_ix = tf.where(target_class_ids > 0)[:, 0]\n",
        "    positive_class_ids = tf.cast(\n",
        "        tf.gather(target_class_ids, positive_ix), tf.int64)\n",
        "    indices = tf.stack([positive_ix, positive_class_ids], axis=1)\n",
        "\n",
        "    # Gather the masks (predicted and true) that contribute to loss\n",
        "    y_true = tf.gather(target_masks, positive_ix)\n",
        "    y_pred = tf.gather_nd(pred_masks, indices)\n",
        "    \n",
        "    m_zer = tf.constant(0.0, dtype=tf.float32)\n",
        "    m_one = tf.constant(1.0, dtype=tf.float32)\n",
        "    m_sev = tf.constant(0.7, dtype=tf.float32)\n",
        "    outside = tf.multiply(tf.subtract(m_one, y_true), y_pred)\n",
        "    inside = tf.multiply(y_true, y_pred)\n",
        "    inside_ratio = tf.divide(tf.count_nonzero(inside, dtype=tf.float32), tf.count_nonzero(y_true, dtype=tf.float32))\n",
        "\n",
        "    output = tf.cond(tf.less(inside_ratio, m_sev), not_good_enough_mask(m_one, inside_ratio, m_sev, inside), good_enough_mask())\n",
        "\n",
        "    \n",
        "    \n",
        "    return tf.add(loss, tf.multiply(factor, loss_in))"
      ],
      "execution_count": 0,
      "outputs": []
    }
  ]
}
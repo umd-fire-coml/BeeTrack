{
  "nbformat": 4,
  "nbformat_minor": 0,
  "metadata": {
    "colab": {
      "name": "bee_lost.ipynb",
      "version": "0.3.2",
      "provenance": [],
      "collapsed_sections": []
    },
    "kernelspec": {
      "name": "python3",
      "display_name": "Python 3"
    }
  },
  "cells": [
    {
      "metadata": {
        "id": "IAn1jYwGJJeh",
        "colab_type": "code",
        "colab": {}
      },
      "cell_type": "code",
      "source": [
        "import keras.backend as K"
      ],
      "execution_count": 0,
      "outputs": []
    },
    {
      "metadata": {
        "id": "zXVZVJe-LDjn",
        "colab_type": "code",
        "colab": {}
      },
      "cell_type": "code",
      "source": [
        "import tensorflow as tf"
      ],
      "execution_count": 0,
      "outputs": []
    },
    {
      "metadata": {
        "id": "isBt2jjcI4L7",
        "colab_type": "code",
        "colab": {}
      },
      "cell_type": "code",
      "source": [
        "import numpy\n",
        "import skimage.draw"
      ],
      "execution_count": 0,
      "outputs": []
    },
    {
      "metadata": {
        "id": "8iv3LxTyLfl2",
        "colab_type": "code",
        "colab": {}
      },
      "cell_type": "code",
      "source": [
        "tf.enable_eager_execution()"
      ],
      "execution_count": 0,
      "outputs": []
    },
    {
      "metadata": {
        "id": "2CbnVz_Fn9hl",
        "colab_type": "text"
      },
      "cell_type": "markdown",
      "source": [
        "version 7"
      ]
    },
    {
      "metadata": {
        "id": "RBmAMmwRo2d4",
        "colab_type": "code",
        "colab": {}
      },
      "cell_type": "code",
      "source": [
        "#################\n",
        "# CUSTOM LOSS CODE BY DEREK ZHANG\n",
        "# BCE = Binary Cross Entropy\n",
        "# return (predicted less than 70% of GT mask) ?\n",
        "#     (BCE inside GT mask) * (2 - GT mask percent predicted) : 0\n",
        "#################\n",
        "def mrcnn_binary_cross_entropy(y_true, y_pred):\n",
        "  \n",
        "  inside = tf.multiply(y_true, y_pred)\n",
        "  inside_ratio = tf.divide(tf.reduce_sum(inside), tf.reduce_sum(y_true))\n",
        "\n",
        "  return K.switch(inside_ratio < tf.constant(0.7),\n",
        "                  tf.multiply(tf.subtract(tf.constant(2.0), inside_ratio), K.binary_crossentropy(target=y_pred, output=inside)),\n",
        "                  tf.constant(0.0))\n",
        "  "
      ],
      "execution_count": 0,
      "outputs": []
    },
    {
      "metadata": {
        "id": "-z_B007wn81M",
        "colab_type": "code",
        "colab": {}
      },
      "cell_type": "code",
      "source": [
        "def mrcnn_mask_loss_graph(target_masks, target_class_ids, pred_masks):\n",
        "    \"\"\"Mask binary cross-entropy loss for the masks head.\n",
        "    target_masks: [batch, num_rois, height, width].\n",
        "        A float32 tensor of values 0 or 1. Uses zero padding to fill array.\n",
        "    target_class_ids: [batch, num_rois]. Integer class IDs. Zero padded.\n",
        "    pred_masks: [batch, proposals, height, width, num_classes] float32 tensor\n",
        "                with values from 0 to 1.\n",
        "    \"\"\"\n",
        "    # Reshape for simplicity. Merge first two dimensions into one.\n",
        "    target_class_ids = K.reshape(target_class_ids, (-1,))\n",
        "    mask_shape = tf.shape(target_masks)\n",
        "    target_masks = K.reshape(target_masks, (-1, mask_shape[2], mask_shape[3]))\n",
        "    pred_shape = tf.shape(pred_masks)\n",
        "    pred_masks = K.reshape(pred_masks,\n",
        "                           (-1, pred_shape[2], pred_shape[3], pred_shape[4]))\n",
        "    # Permute predicted masks to [N, num_classes, height, width]\n",
        "    pred_masks = tf.transpose(pred_masks, [0, 3, 1, 2])\n",
        "\n",
        "    # Only positive ROIs contribute to the loss. And only\n",
        "    # the class specific mask of each ROI.\n",
        "    positive_ix = tf.where(target_class_ids > 0)[:, 0]\n",
        "    positive_class_ids = tf.cast(\n",
        "        tf.gather(target_class_ids, positive_ix), tf.int64)\n",
        "    indices = tf.stack([positive_ix, positive_class_ids], axis=1)\n",
        "\n",
        "    # Gather the masks (predicted and true) that contribute to loss\n",
        "    y_true = tf.gather(target_masks, positive_ix)\n",
        "    y_pred = tf.gather_nd(pred_masks, indices)\n",
        "\n",
        "    #################\n",
        "    # CUSTOM LOSS CODE BY DEREK ZHANG\n",
        "    #################\n",
        "\n",
        "    outside = tf.multiply(tf.subtract(tf.constant(1.0), y_true), y_pred)\n",
        "    \n",
        "    # Compute binary cross entropy. If no positive ROIs, then return 0.\n",
        "    # shape: [batch, roi, num_classes]\n",
        "    loss_out = K.switch(tf.size(y_true) > 0,\n",
        "                    K.binary_crossentropy(target=tf.zeros_like(outside), output=outside),\n",
        "                    tf.constant(0.0))\n",
        "    loss_out = K.mean(loss_out)\n",
        "\n",
        "    loss_in = K.switch(tf.size(y_true) > 0,\n",
        "                    mrcnn_binary_cross_entropy(y_true, y_pred),\n",
        "                    tf.constant(0.0))\n",
        "    loss_in = K.mean(loss_in)\n",
        "    \n",
        "    return tf.add(loss_out, loss_in)"
      ],
      "execution_count": 0,
      "outputs": []
    },
    {
      "metadata": {
        "id": "ZNHufuBoqSS8",
        "colab_type": "code",
        "colab": {
          "base_uri": "https://localhost:8080/",
          "height": 1547
        },
        "outputId": "1511672d-ab21-4e07-bf83-ee0107ab05d5"
      },
      "cell_type": "code",
      "source": [
        "gt = numpy.zeros((1, 1, 20, 20), dtype=numpy.float32)\n",
        "rr, cc = skimage.draw.circle(16, 9, 4)\n",
        "gt[0, 0, rr, cc] = 1\n",
        "c_ids = numpy.zeros((1, 1), dtype=numpy.float32)\n",
        "c_ids[0, 0] = 1\n",
        "pred = numpy.zeros((1, 1, 20, 20, 2), dtype=numpy.float32)\n",
        "for g in range(1, 11):\n",
        "  print('confidence %f' % (g / 10))\n",
        "  for i in range(9, 17):\n",
        "\n",
        "    rr, cc = skimage.draw.circle(i, 9, 4)\n",
        "    pred[0, 0, rr, cc, 1] = g / 10\n",
        "    #print(pred[0, 0, :, :, 1])\n",
        "    print(mrcnn_mask_loss_graph(gt, c_ids, pred))\n",
        "    pred[0, 0, :, :, 1] = 0"
      ],
      "execution_count": 27,
      "outputs": [
        {
          "output_type": "stream",
          "text": [
            "confidence 0.100000\n",
            "tf.Tensor(0.37451044, shape=(), dtype=float32)\n",
            "tf.Tensor(0.3391892, shape=(), dtype=float32)\n",
            "tf.Tensor(0.3042254, shape=(), dtype=float32)\n",
            "tf.Tensor(0.25587657, shape=(), dtype=float32)\n",
            "tf.Tensor(0.20822828, shape=(), dtype=float32)\n",
            "tf.Tensor(0.16128054, shape=(), dtype=float32)\n",
            "tf.Tensor(0.11503337, shape=(), dtype=float32)\n",
            "tf.Tensor(0.06948675, shape=(), dtype=float32)\n",
            "confidence 0.200000\n",
            "tf.Tensor(0.7504181, shape=(), dtype=float32)\n",
            "tf.Tensor(0.67224586, shape=(), dtype=float32)\n",
            "tf.Tensor(0.5955865, shape=(), dtype=float32)\n",
            "tf.Tensor(0.49080494, shape=(), dtype=float32)\n",
            "tf.Tensor(0.38898867, shape=(), dtype=float32)\n",
            "tf.Tensor(0.29013777, shape=(), dtype=float32)\n",
            "tf.Tensor(0.19425212, shape=(), dtype=float32)\n",
            "tf.Tensor(0.10133175, shape=(), dtype=float32)\n",
            "confidence 0.300000\n",
            "tf.Tensor(1.1280974, shape=(), dtype=float32)\n",
            "tf.Tensor(1.0016525, shape=(), dtype=float32)\n",
            "tf.Tensor(0.87872773, shape=(), dtype=float32)\n",
            "tf.Tensor(0.7125475, shape=(), dtype=float32)\n",
            "tf.Tensor(0.55326754, shape=(), dtype=float32)\n",
            "tf.Tensor(0.40088752, shape=(), dtype=float32)\n",
            "tf.Tensor(0.25540772, shape=(), dtype=float32)\n",
            "tf.Tensor(0.11682803, shape=(), dtype=float32)\n",
            "confidence 0.400000\n",
            "tf.Tensor(1.5080966, shape=(), dtype=float32)\n",
            "tf.Tensor(1.3283273, shape=(), dtype=float32)\n",
            "tf.Tensor(1.154974, shape=(), dtype=float32)\n",
            "tf.Tensor(0.92305756, shape=(), dtype=float32)\n",
            "tf.Tensor(0.70371634, shape=(), dtype=float32)\n",
            "tf.Tensor(0.49695006, shape=(), dtype=float32)\n",
            "tf.Tensor(0.3027587, shape=(), dtype=float32)\n",
            "tf.Tensor(0.12114235, shape=(), dtype=float32)\n",
            "confidence 0.500000\n",
            "tf.Tensor(1.8912649, shape=(), dtype=float32)\n",
            "tf.Tensor(1.6531993, shape=(), dtype=float32)\n",
            "tf.Tensor(1.4253639, shape=(), dtype=float32)\n",
            "tf.Tensor(1.1235818, shape=(), dtype=float32)\n",
            "tf.Tensor(0.841851, shape=(), dtype=float32)\n",
            "tf.Tensor(0.580172, shape=(), dtype=float32)\n",
            "tf.Tensor(0.33854458, shape=(), dtype=float32)\n",
            "tf.Tensor(0.1169688, shape=(), dtype=float32)\n",
            "confidence 0.600000\n",
            "tf.Tensor(2.2790256, shape=(), dtype=float32)\n",
            "tf.Tensor(1.9775926, shape=(), dtype=float32)\n",
            "tf.Tensor(1.6911561, shape=(), dtype=float32)\n",
            "tf.Tensor(1.3153389, shape=(), dtype=float32)\n",
            "tf.Tensor(0.9689147, shape=(), dtype=float32)\n",
            "tf.Tensor(0.65188324, shape=(), dtype=float32)\n",
            "tf.Tensor(0.36424503, shape=(), dtype=float32)\n",
            "tf.Tensor(0.10599957, shape=(), dtype=float32)\n",
            "confidence 0.700000\n",
            "tf.Tensor(2.674047, shape=(), dtype=float32)\n",
            "tf.Tensor(2.3038542, shape=(), dtype=float32)\n",
            "tf.Tensor(1.9544122, shape=(), dtype=float32)\n",
            "tf.Tensor(1.5000548, shape=(), dtype=float32)\n",
            "tf.Tensor(1.0863686, shape=(), dtype=float32)\n",
            "tf.Tensor(0.713354, shape=(), dtype=float32)\n",
            "tf.Tensor(0.38101095, shape=(), dtype=float32)\n",
            "tf.Tensor(0.08933912, shape=(), dtype=float32)\n",
            "confidence 0.800000\n",
            "tf.Tensor(3.082319, shape=(), dtype=float32)\n",
            "tf.Tensor(2.6371758, shape=(), dtype=float32)\n",
            "tf.Tensor(2.2195752, shape=(), dtype=float32)\n",
            "tf.Tensor(1.6812044, shape=(), dtype=float32)\n",
            "tf.Tensor(1.1968173, shape=(), dtype=float32)\n",
            "tf.Tensor(0.76641345, shape=(), dtype=float32)\n",
            "tf.Tensor(0.38999242, shape=(), dtype=float32)\n",
            "tf.Tensor(1.00000015e-07, shape=(), dtype=float32)\n",
            "confidence 0.900000\n",
            "tf.Tensor(3.5229554, shape=(), dtype=float32)\n",
            "tf.Tensor(2.9941738, shape=(), dtype=float32)\n",
            "tf.Tensor(2.500845, shape=(), dtype=float32)\n",
            "tf.Tensor(1.8697461, shape=(), dtype=float32)\n",
            "tf.Tensor(1.3081349, shape=(), dtype=float32)\n",
            "tf.Tensor(0.81601197, shape=(), dtype=float32)\n",
            "tf.Tensor(0.040295314, shape=(), dtype=float32)\n",
            "tf.Tensor(1.00000015e-07, shape=(), dtype=float32)\n",
            "confidence 1.000000\n",
            "tf.Tensor(5.4200897, shape=(), dtype=float32)\n",
            "tf.Tensor(4.6387677, shape=(), dtype=float32)\n",
            "tf.Tensor(3.9022179, shape=(), dtype=float32)\n",
            "tf.Tensor(2.9462662, shape=(), dtype=float32)\n",
            "tf.Tensor(2.0780687, shape=(), dtype=float32)\n",
            "tf.Tensor(1.2976251, shape=(), dtype=float32)\n",
            "tf.Tensor(0.27899182, shape=(), dtype=float32)\n",
            "tf.Tensor(1.00000015e-07, shape=(), dtype=float32)\n"
          ],
          "name": "stdout"
        }
      ]
    },
    {
      "metadata": {
        "id": "SPdHTjZuW0Ui",
        "colab_type": "text"
      },
      "cell_type": "markdown",
      "source": [
        "version 6"
      ]
    },
    {
      "metadata": {
        "id": "t4XGH8g3WznB",
        "colab_type": "code",
        "colab": {}
      },
      "cell_type": "code",
      "source": [
        "def mrcnn_mask_loss_graph(target_masks, target_class_ids, pred_masks):\n",
        "    \"\"\"Mask binary cross-entropy loss for the masks head.\n",
        "    target_masks: [batch, num_rois, height, width].\n",
        "        A float32 tensor of values 0 or 1. Uses zero padding to fill array.\n",
        "    target_class_ids: [batch, num_rois]. Integer class IDs. Zero padded.\n",
        "    pred_masks: [batch, proposals, height, width, num_classes] float32 tensor\n",
        "                with values from 0 to 1.\n",
        "    \"\"\"\n",
        "    # Reshape for simplicity. Merge first two dimensions into one.\n",
        "    target_class_ids = K.reshape(target_class_ids, (-1,))\n",
        "    mask_shape = tf.shape(target_masks)\n",
        "    target_masks = K.reshape(target_masks, (-1, mask_shape[2], mask_shape[3]))\n",
        "    pred_shape = tf.shape(pred_masks)\n",
        "    pred_masks = K.reshape(pred_masks,\n",
        "                           (-1, pred_shape[2], pred_shape[3], pred_shape[4]))\n",
        "    # Permute predicted masks to [N, num_classes, height, width]\n",
        "    pred_masks = tf.transpose(pred_masks, [0, 3, 1, 2])\n",
        "\n",
        "    # Only positive ROIs contribute to the loss. And only\n",
        "    # the class specific mask of each ROI.\n",
        "    positive_ix = tf.where(target_class_ids > 0)[:, 0]\n",
        "    positive_class_ids = tf.cast(\n",
        "        tf.gather(target_class_ids, positive_ix), tf.int64)\n",
        "    indices = tf.stack([positive_ix, positive_class_ids], axis=1)\n",
        "\n",
        "    # Gather the masks (predicted and true) that contribute to loss\n",
        "    y_true = tf.gather(target_masks, positive_ix)\n",
        "    y_pred = tf.gather_nd(pred_masks, indices)\n",
        "    \n",
        "    #################\n",
        "    # CUSTOM LOSS CODE BY DEREK ZHANG\n",
        "    # BCE = Binary Cross Entropy\n",
        "    # return (BCE outside GT mask)\n",
        "    #    + (BCE inside GT mask) * ?????\n",
        "    #################\n",
        "    \n",
        "    m_zer = tf.constant(0.0, dtype=tf.float32)\n",
        "    m_one = tf.constant(1.0, dtype=tf.float32)\n",
        "    m_sev = tf.constant(0.7, dtype=tf.float32)\n",
        "    outside = tf.multiply(tf.subtract(m_one, y_true), y_pred)\n",
        "    inside = tf.multiply(y_true, y_pred)\n",
        "    inside_ratio = tf.divide(tf.reduce_sum(inside), tf.reduce_sum(y_true))\n",
        "    factor = tf.cond(tf.less(inside_ratio, m_sev), lambda: tf.subtract(m_one, inside_ratio), lambda: m_zer)\n",
        "    \n",
        "    # Compute binary cross entropy. If no positive ROIs, then return 0.\n",
        "    # shape: [batch, roi, num_classes]\n",
        "    loss = K.switch(tf.size(y_true) > 0,\n",
        "                    K.binary_crossentropy(target=tf.zeros_like(outside), output=outside),\n",
        "                    tf.constant(0.0))\n",
        "    loss = K.mean(loss)\n",
        "    \n",
        "    loss_in = K.switch(tf.size(y_true) > 0,\n",
        "                    K.binary_crossentropy(target=y_pred, output=inside),\n",
        "                    tf.constant(0.0))\n",
        "    loss_in = K.mean(loss_in)\n",
        "    \n",
        "    return tf.add(loss, tf.multiply(factor, loss_in))"
      ],
      "execution_count": 0,
      "outputs": []
    },
    {
      "metadata": {
        "id": "bEFpd-D9qMnP",
        "colab_type": "text"
      },
      "cell_type": "markdown",
      "source": [
        "for some reason this gave me basically the same result as version 4"
      ]
    },
    {
      "metadata": {
        "id": "tYxxknlebpzX",
        "colab_type": "code",
        "outputId": "946af2ed-a0b2-4cde-8e4b-dc0277f364e6",
        "colab": {
          "base_uri": "https://localhost:8080/",
          "height": 1547
        }
      },
      "cell_type": "code",
      "source": [
        "gt = numpy.zeros((1, 1, 20, 20), dtype=numpy.float32)\n",
        "rr, cc = skimage.draw.circle(16, 9, 4)\n",
        "gt[0, 0, rr, cc] = 1\n",
        "c_ids = numpy.zeros((1, 1), dtype=numpy.float32)\n",
        "c_ids[0, 0] = 1\n",
        "pred = numpy.zeros((1, 1, 20, 20, 2), dtype=numpy.float32)\n",
        "for g in range(1, 11):\n",
        "  print('confidence %f' % (g / 10))\n",
        "  for i in range(9, 17):\n",
        "\n",
        "    rr, cc = skimage.draw.circle(i, 9, 4)\n",
        "    pred[0, 0, rr, cc, 1] = g / 10\n",
        "    #print(pred[0, 0, :, :, 1])\n",
        "    print(mrcnn_mask_loss_graph(gt, c_ids, pred))\n",
        "    pred[0, 0, :, :, 1] = 0"
      ],
      "execution_count": 0,
      "outputs": [
        {
          "output_type": "stream",
          "text": [
            "confidence 0.100000\n",
            "tf.Tensor(0.19318178, shape=(), dtype=float32)\n",
            "tf.Tensor(0.17394465, shape=(), dtype=float32)\n",
            "tf.Tensor(0.15506494, shape=(), dtype=float32)\n",
            "tf.Tensor(0.1292338, shape=(), dtype=float32)\n",
            "tf.Tensor(0.10410323, shape=(), dtype=float32)\n",
            "tf.Tensor(0.07967321, shape=(), dtype=float32)\n",
            "tf.Tensor(0.055943746, shape=(), dtype=float32)\n",
            "tf.Tensor(0.032914832, shape=(), dtype=float32)\n",
            "confidence 0.200000\n",
            "tf.Tensor(0.38776094, shape=(), dtype=float32)\n",
            "tf.Tensor(0.34362885, shape=(), dtype=float32)\n",
            "tf.Tensor(0.30100965, shape=(), dtype=float32)\n",
            "tf.Tensor(0.24388443, shape=(), dtype=float32)\n",
            "tf.Tensor(0.1897245, shape=(), dtype=float32)\n",
            "tf.Tensor(0.13852982, shape=(), dtype=float32)\n",
            "tf.Tensor(0.09030048, shape=(), dtype=float32)\n",
            "tf.Tensor(0.045036387, shape=(), dtype=float32)\n",
            "confidence 0.300000\n",
            "tf.Tensor(0.58411175, shape=(), dtype=float32)\n",
            "tf.Tensor(0.5104736, shape=(), dtype=float32)\n",
            "tf.Tensor(0.44035602, shape=(), dtype=float32)\n",
            "tf.Tensor(0.34810573, shape=(), dtype=float32)\n",
            "tf.Tensor(0.26275554, shape=(), dtype=float32)\n",
            "tf.Tensor(0.1843055, shape=(), dtype=float32)\n",
            "tf.Tensor(0.112755544, shape=(), dtype=float32)\n",
            "tf.Tensor(0.04810572, shape=(), dtype=float32)\n",
            "confidence 0.400000\n",
            "tf.Tensor(0.78278226, shape=(), dtype=float32)\n",
            "tf.Tensor(0.6751908, shape=(), dtype=float32)\n",
            "tf.Tensor(0.57401526, shape=(), dtype=float32)\n",
            "tf.Tensor(0.44314793, shape=(), dtype=float32)\n",
            "tf.Tensor(0.32485557, shape=(), dtype=float32)\n",
            "tf.Tensor(0.21913823, shape=(), dtype=float32)\n",
            "tf.Tensor(0.12599583, shape=(), dtype=float32)\n",
            "tf.Tensor(0.045428444, shape=(), dtype=float32)\n",
            "confidence 0.500000\n",
            "tf.Tensor(0.984622, shape=(), dtype=float32)\n",
            "tf.Tensor(0.83863, shape=(), dtype=float32)\n",
            "tf.Tensor(0.70286846, shape=(), dtype=float32)\n",
            "tf.Tensor(0.5299895, shape=(), dtype=float32)\n",
            "tf.Tensor(0.37716216, shape=(), dtype=float32)\n",
            "tf.Tensor(0.24438642, shape=(), dtype=float32)\n",
            "tf.Tensor(0.13166222, shape=(), dtype=float32)\n",
            "tf.Tensor(0.038989667, shape=(), dtype=float32)\n",
            "confidence 0.600000\n",
            "tf.Tensor(1.1910542, shape=(), dtype=float32)\n",
            "tf.Tensor(1.0020943, shape=(), dtype=float32)\n",
            "tf.Tensor(0.82813084, shape=(), dtype=float32)\n",
            "tf.Tensor(0.60977584, shape=(), dtype=float32)\n",
            "tf.Tensor(0.4208138, shape=(), dtype=float32)\n",
            "tf.Tensor(0.26124483, shape=(), dtype=float32)\n",
            "tf.Tensor(0.13106878, shape=(), dtype=float32)\n",
            "tf.Tensor(0.03028566, shape=(), dtype=float32)\n",
            "confidence 0.700000\n",
            "tf.Tensor(1.404747, shape=(), dtype=float32)\n",
            "tf.Tensor(1.1679517, shape=(), dtype=float32)\n",
            "tf.Tensor(0.95190734, shape=(), dtype=float32)\n",
            "tf.Tensor(0.6843063, shape=(), dtype=float32)\n",
            "tf.Tensor(0.45737687, shape=(), dtype=float32)\n",
            "tf.Tensor(0.2711188, shape=(), dtype=float32)\n",
            "tf.Tensor(0.1255321, shape=(), dtype=float32)\n",
            "tf.Tensor(0.0206168, shape=(), dtype=float32)\n",
            "confidence 0.800000\n",
            "tf.Tensor(1.6316905, shape=(), dtype=float32)\n",
            "tf.Tensor(1.3414731, shape=(), dtype=float32)\n",
            "tf.Tensor(1.078798, shape=(), dtype=float32)\n",
            "tf.Tensor(0.7573239, shape=(), dtype=float32)\n",
            "tf.Tensor(0.48983312, shape=(), dtype=float32)\n",
            "tf.Tensor(0.27632543, shape=(), dtype=float32)\n",
            "tf.Tensor(0.116800755, shape=(), dtype=float32)\n",
            "tf.Tensor(1.00000015e-07, shape=(), dtype=float32)\n",
            "confidence 0.900000\n",
            "tf.Tensor(1.8909981, shape=(), dtype=float32)\n",
            "tf.Tensor(1.5394814, shape=(), dtype=float32)\n",
            "tf.Tensor(1.223418, shape=(), dtype=float32)\n",
            "tf.Tensor(0.84049004, shape=(), dtype=float32)\n",
            "tf.Tensor(0.52705, shape=(), dtype=float32)\n",
            "tf.Tensor(0.28309786, shape=(), dtype=float32)\n",
            "tf.Tensor(0.040295314, shape=(), dtype=float32)\n",
            "tf.Tensor(1.00000015e-07, shape=(), dtype=float32)\n",
            "confidence 1.000000\n",
            "tf.Tensor(3.606804, shape=(), dtype=float32)\n",
            "tf.Tensor(3.026958, shape=(), dtype=float32)\n",
            "tf.Tensor(2.4918845, shape=(), dtype=float32)\n",
            "tf.Tensor(1.8179995, shape=(), dtype=float32)\n",
            "tf.Tensor(1.2318686, shape=(), dtype=float32)\n",
            "tf.Tensor(0.7334917, shape=(), dtype=float32)\n",
            "tf.Tensor(0.27899182, shape=(), dtype=float32)\n",
            "tf.Tensor(1.00000015e-07, shape=(), dtype=float32)\n"
          ],
          "name": "stdout"
        }
      ]
    },
    {
      "metadata": {
        "id": "nJiGk4FgCIJj",
        "colab_type": "text"
      },
      "cell_type": "markdown",
      "source": [
        "version 5"
      ]
    },
    {
      "metadata": {
        "id": "DfAyfjurCHuZ",
        "colab_type": "code",
        "colab": {}
      },
      "cell_type": "code",
      "source": [
        "def mrcnn_mask_loss_graph(target_masks, target_class_ids, pred_masks):\n",
        "    \"\"\"Mask binary cross-entropy loss for the masks head.\n",
        "    target_masks: [batch, num_rois, height, width].\n",
        "        A float32 tensor of values 0 or 1. Uses zero padding to fill array.\n",
        "    target_class_ids: [batch, num_rois]. Integer class IDs. Zero padded.\n",
        "    pred_masks: [batch, proposals, height, width, num_classes] float32 tensor\n",
        "                with values from 0 to 1.\n",
        "    \"\"\"\n",
        "    # Reshape for simplicity. Merge first two dimensions into one.\n",
        "    target_class_ids = K.reshape(target_class_ids, (-1,))\n",
        "    mask_shape = tf.shape(target_masks)\n",
        "    target_masks = K.reshape(target_masks, (-1, mask_shape[2], mask_shape[3]))\n",
        "    pred_shape = tf.shape(pred_masks)\n",
        "    pred_masks = K.reshape(pred_masks,\n",
        "                           (-1, pred_shape[2], pred_shape[3], pred_shape[4]))\n",
        "    # Permute predicted masks to [N, num_classes, height, width]\n",
        "    pred_masks = tf.transpose(pred_masks, [0, 3, 1, 2])\n",
        "\n",
        "    # Only positive ROIs contribute to the loss. And only\n",
        "    # the class specific mask of each ROI.\n",
        "    positive_ix = tf.where(target_class_ids > 0)[:, 0]\n",
        "    positive_class_ids = tf.cast(\n",
        "        tf.gather(target_class_ids, positive_ix), tf.int64)\n",
        "    indices = tf.stack([positive_ix, positive_class_ids], axis=1)\n",
        "\n",
        "    # Gather the masks (predicted and true) that contribute to loss\n",
        "    y_true = tf.gather(target_masks, positive_ix)\n",
        "    y_pred = tf.gather_nd(pred_masks, indices)\n",
        "    \n",
        "    #################\n",
        "    # CUSTOM LOSS CODE BY DEREK ZHANG\n",
        "    # BCE = Binary Cross Entropy\n",
        "    # return (BCE outside GT mask) + (BCE inside GT mask) * max(0.7 * GT mask summed - percent GT mask predicted summed, 0)\n",
        "    #################\n",
        "    \n",
        "    m_zer = tf.constant(0.0, dtype=tf.float32)\n",
        "    m_one = tf.constant(1.0, dtype=tf.float32)\n",
        "    m_sev = tf.constant(0.7, dtype=tf.float32)\n",
        "    outside = tf.multiply(tf.subtract(m_one, y_true), y_pred)\n",
        "    inside = tf.multiply(y_true, y_pred)\n",
        "    factor = tf.maximum(tf.subtract(tf.multiply(tf.reduce_sum(y_true), m_sev), tf.reduce_sum(inside)), m_zer)\n",
        "    \n",
        "    # Compute binary cross entropy. If no positive ROIs, then return 0.\n",
        "    # shape: [batch, roi, num_classes]\n",
        "    loss = K.switch(tf.size(y_true) > 0,\n",
        "                    K.binary_crossentropy(target=tf.zeros_like(outside), output=outside),\n",
        "                    tf.constant(0.0))\n",
        "    loss = K.mean(loss)\n",
        "    \n",
        "    loss_in = K.switch(tf.size(y_true) > 0,\n",
        "                    K.binary_crossentropy(target=y_pred, output=inside),\n",
        "                    tf.constant(0.0))\n",
        "    loss_in = K.mean(loss_in)\n",
        "\n",
        "    return tf.add(loss, tf.multiply(factor, loss_in))"
      ],
      "execution_count": 0,
      "outputs": []
    },
    {
      "metadata": {
        "id": "rH7bS1nBCqaP",
        "colab_type": "code",
        "outputId": "b091556a-de63-4173-cc67-4e0a98ba41a8",
        "colab": {
          "base_uri": "https://localhost:8080/",
          "height": 1547
        }
      },
      "cell_type": "code",
      "source": [
        "gt = numpy.zeros((1, 1, 20, 20), dtype=numpy.float32)\n",
        "rr, cc = skimage.draw.circle(16, 9, 4)\n",
        "gt[0, 0, rr, cc] = 1\n",
        "c_ids = numpy.zeros((1, 1), dtype=numpy.float32)\n",
        "c_ids[0, 0] = 1\n",
        "pred = numpy.zeros((1, 1, 20, 20, 2), dtype=numpy.float32)\n",
        "for g in range(1, 11):\n",
        "  print('confidence %f' % (g / 10))\n",
        "  for i in range(9, 17):\n",
        "\n",
        "    rr, cc = skimage.draw.circle(i, 9, 4)\n",
        "    pred[0, 0, rr, cc, 1] = g / 10\n",
        "    #print(pred[0, 0, :, :, 1])\n",
        "    print(mrcnn_mask_loss_graph(gt, c_ids, pred))\n",
        "    pred[0, 0, :, :, 1] = 0"
      ],
      "execution_count": 0,
      "outputs": [
        {
          "output_type": "stream",
          "text": [
            "confidence 0.100000\n",
            "tf.Tensor(5.7237053, shape=(), dtype=float32)\n",
            "tf.Tensor(5.1331177, shape=(), dtype=float32)\n",
            "tf.Tensor(4.558614, shape=(), dtype=float32)\n",
            "tf.Tensor(3.7813294, shape=(), dtype=float32)\n",
            "tf.Tensor(3.0355704, shape=(), dtype=float32)\n",
            "tf.Tensor(2.3213358, shape=(), dtype=float32)\n",
            "tf.Tensor(1.6386267, shape=(), dtype=float32)\n",
            "tf.Tensor(0.9874421, shape=(), dtype=float32)\n",
            "confidence 0.200000\n",
            "tf.Tensor(11.448805, shape=(), dtype=float32)\n",
            "tf.Tensor(10.045133, shape=(), dtype=float32)\n",
            "tf.Tensor(8.709541, shape=(), dtype=float32)\n",
            "tf.Tensor(6.954087, shape=(), dtype=float32)\n",
            "tf.Tensor(5.33207, shape=(), dtype=float32)\n",
            "tf.Tensor(3.8434904, shape=(), dtype=float32)\n",
            "tf.Tensor(2.4883494, shape=(), dtype=float32)\n",
            "tf.Tensor(1.2666457, shape=(), dtype=float32)\n",
            "confidence 0.300000\n",
            "tf.Tensor(17.175676, shape=(), dtype=float32)\n",
            "tf.Tensor(14.7710285, shape=(), dtype=float32)\n",
            "tf.Tensor(12.524801, shape=(), dtype=float32)\n",
            "tf.Tensor(9.64623, shape=(), dtype=float32)\n",
            "tf.Tensor(7.078165, shape=(), dtype=float32)\n",
            "tf.Tensor(4.8206058, shape=(), dtype=float32)\n",
            "tf.Tensor(2.8735507, shape=(), dtype=float32)\n",
            "tf.Tensor(1.2370018, shape=(), dtype=float32)\n",
            "confidence 0.400000\n",
            "tf.Tensor(22.90487, shape=(), dtype=float32)\n",
            "tf.Tensor(19.31861, shape=(), dtype=float32)\n",
            "tf.Tensor(16.021063, shape=(), dtype=float32)\n",
            "tf.Tensor(11.889529, shape=(), dtype=float32)\n",
            "tf.Tensor(8.323869, shape=(), dtype=float32)\n",
            "tf.Tensor(5.3240848, shape=(), dtype=float32)\n",
            "tf.Tensor(2.890174, shape=(), dtype=float32)\n",
            "tf.Tensor(1.0221378, shape=(), dtype=float32)\n",
            "confidence 0.500000\n",
            "tf.Tensor(28.637232, shape=(), dtype=float32)\n",
            "tf.Tensor(23.69182, shape=(), dtype=float32)\n",
            "tf.Tensor(19.206776, shape=(), dtype=float32)\n",
            "tf.Tensor(13.701138, shape=(), dtype=float32)\n",
            "tf.Tensor(9.097824, shape=(), dtype=float32)\n",
            "tf.Tensor(5.396831, shape=(), dtype=float32)\n",
            "tf.Tensor(2.5981603, shape=(), dtype=float32)\n",
            "tf.Tensor(0.7018123, shape=(), dtype=float32)\n",
            "confidence 0.600000\n",
            "tf.Tensor(34.374184, shape=(), dtype=float32)\n",
            "tf.Tensor(27.893333, shape=(), dtype=float32)\n",
            "tf.Tensor(22.087322, shape=(), dtype=float32)\n",
            "tf.Tensor(15.092633, shape=(), dtype=float32)\n",
            "tf.Tensor(9.420627, shape=(), dtype=float32)\n",
            "tf.Tensor(5.071306, shape=(), dtype=float32)\n",
            "tf.Tensor(2.0446682, shape=(), dtype=float32)\n",
            "tf.Tensor(0.34071264, shape=(), dtype=float32)\n",
            "confidence 0.700000\n",
            "tf.Tensor(40.118397, shape=(), dtype=float32)\n",
            "tf.Tensor(31.925665, shape=(), dtype=float32)\n",
            "tf.Tensor(24.666718, shape=(), dtype=float32)\n",
            "tf.Tensor(16.072945, shape=(), dtype=float32)\n",
            "tf.Tensor(9.309389, shape=(), dtype=float32)\n",
            "tf.Tensor(4.376045, shape=(), dtype=float32)\n",
            "tf.Tensor(1.2729164, shape=(), dtype=float32)\n",
            "tf.Tensor(2.3107742e-07, shape=(), dtype=float32)\n",
            "confidence 0.800000\n",
            "tf.Tensor(45.875862, shape=(), dtype=float32)\n",
            "tf.Tensor(35.79277, shape=(), dtype=float32)\n",
            "tf.Tensor(26.949081, shape=(), dtype=float32)\n",
            "tf.Tensor(16.650122, shape=(), dtype=float32)\n",
            "tf.Tensor(8.7804, shape=(), dtype=float32)\n",
            "tf.Tensor(3.3399198, shape=(), dtype=float32)\n",
            "tf.Tensor(0.32867563, shape=(), dtype=float32)\n",
            "tf.Tensor(1.00000015e-07, shape=(), dtype=float32)\n",
            "confidence 0.900000\n",
            "tf.Tensor(51.665695, shape=(), dtype=float32)\n",
            "tf.Tensor(39.506947, shape=(), dtype=float32)\n",
            "tf.Tensor(28.943588, shape=(), dtype=float32)\n",
            "tf.Tensor(16.83513, shape=(), dtype=float32)\n",
            "tf.Tensor(7.853629, shape=(), dtype=float32)\n",
            "tf.Tensor(1.999081, shape=(), dtype=float32)\n",
            "tf.Tensor(0.040295314, shape=(), dtype=float32)\n",
            "tf.Tensor(1.00000015e-07, shape=(), dtype=float32)\n",
            "confidence 1.000000\n",
            "tf.Tensor(58.91202, shape=(), dtype=float32)\n",
            "tf.Tensor(44.30719, shape=(), dtype=float32)\n",
            "tf.Tensor(31.717123, shape=(), dtype=float32)\n",
            "tf.Tensor(17.475834, shape=(), dtype=float32)\n",
            "tf.Tensor(7.1834755, shape=(), dtype=float32)\n",
            "tf.Tensor(0.8400503, shape=(), dtype=float32)\n",
            "tf.Tensor(0.27899182, shape=(), dtype=float32)\n",
            "tf.Tensor(1.00000015e-07, shape=(), dtype=float32)\n"
          ],
          "name": "stdout"
        }
      ]
    },
    {
      "metadata": {
        "id": "dp0B4IvX5mob",
        "colab_type": "text"
      },
      "cell_type": "markdown",
      "source": [
        "version 4"
      ]
    },
    {
      "metadata": {
        "id": "mNQIhYra5b7K",
        "colab_type": "code",
        "colab": {}
      },
      "cell_type": "code",
      "source": [
        "def mrcnn_mask_loss_graph(target_masks, target_class_ids, pred_masks):\n",
        "    \"\"\"Mask binary cross-entropy loss for the masks head.\n",
        "    target_masks: [batch, num_rois, height, width].\n",
        "        A float32 tensor of values 0 or 1. Uses zero padding to fill array.\n",
        "    target_class_ids: [batch, num_rois]. Integer class IDs. Zero padded.\n",
        "    pred_masks: [batch, proposals, height, width, num_classes] float32 tensor\n",
        "                with values from 0 to 1.\n",
        "    \"\"\"\n",
        "    # Reshape for simplicity. Merge first two dimensions into one.\n",
        "    target_class_ids = K.reshape(target_class_ids, (-1,))\n",
        "    mask_shape = tf.shape(target_masks)\n",
        "    target_masks = K.reshape(target_masks, (-1, mask_shape[2], mask_shape[3]))\n",
        "    pred_shape = tf.shape(pred_masks)\n",
        "    pred_masks = K.reshape(pred_masks,\n",
        "                           (-1, pred_shape[2], pred_shape[3], pred_shape[4]))\n",
        "    # Permute predicted masks to [N, num_classes, height, width]\n",
        "    pred_masks = tf.transpose(pred_masks, [0, 3, 1, 2])\n",
        "\n",
        "    # Only positive ROIs contribute to the loss. And only\n",
        "    # the class specific mask of each ROI.\n",
        "    positive_ix = tf.where(target_class_ids > 0)[:, 0]\n",
        "    positive_class_ids = tf.cast(\n",
        "        tf.gather(target_class_ids, positive_ix), tf.int64)\n",
        "    indices = tf.stack([positive_ix, positive_class_ids], axis=1)\n",
        "\n",
        "    # Gather the masks (predicted and true) that contribute to loss\n",
        "    y_true = tf.gather(target_masks, positive_ix)\n",
        "    y_pred = tf.gather_nd(pred_masks, indices)\n",
        "    \n",
        "    m_zer = tf.constant(0.0, dtype=tf.float32)\n",
        "    m_one = tf.constant(1.0, dtype=tf.float32)\n",
        "    m_sev = tf.constant(0.7, dtype=tf.float32)\n",
        "    outside = tf.multiply(tf.subtract(m_one, y_true), y_pred)\n",
        "    inside = tf.multiply(y_true, y_pred)\n",
        "    inside_ratio = tf.subtract(m_one, tf.minimum(tf.divide(tf.reduce_sum(inside), tf.multiply(tf.reduce_sum(y_true), m_sev)), m_one))\n",
        "\n",
        "    #sum reduce the inside\n",
        "    #compare against .7 * sum reduce actual GT\n",
        "    #multiply against BCE\n",
        "    \n",
        "    \n",
        "    # Compute binary cross entropy. If no positive ROIs, then return 0.\n",
        "    # shape: [batch, roi, num_classes]\n",
        "    loss = K.switch(tf.size(y_true) > 0,\n",
        "                    K.binary_crossentropy(target=tf.zeros_like(outside), output=outside),\n",
        "                    tf.constant(0.0))\n",
        "    loss = K.mean(loss)\n",
        "    \n",
        "    loss_in = K.switch(tf.size(y_true) > 0,\n",
        "                    K.binary_crossentropy(target=y_pred, output=inside),\n",
        "                    tf.constant(0.0))\n",
        "    loss_in = K.mean(loss_in)\n",
        "\n",
        "#     print(loss)\n",
        "#     print(outside)\n",
        "#     lolz = tf.multiply(tf.cast(factor, tf.float32), loss)\n",
        "#     print(lolz)\n",
        "    return tf.add(loss, tf.multiply(inside_ratio, loss_in))"
      ],
      "execution_count": 0,
      "outputs": []
    },
    {
      "metadata": {
        "id": "PzgN6FC0S_nt",
        "colab_type": "code",
        "outputId": "4b45c1c3-83f9-4765-9698-f311c721b9a8",
        "colab": {
          "base_uri": "https://localhost:8080/",
          "height": 374
        }
      },
      "cell_type": "code",
      "source": [
        "img = numpy.zeros((20, 20), dtype=numpy.uint8)\n",
        "rr, cc = skimage.draw.circle(16, 9, 4)\n",
        "img[rr, cc] = 1\n",
        "rr, cc = skimage.draw.circle(9, 9, 4)\n",
        "img[rr, cc] = 2\n",
        "img"
      ],
      "execution_count": 0,
      "outputs": [
        {
          "output_type": "execute_result",
          "data": {
            "text/plain": [
              "array([[0, 0, 0, 0, 0, 0, 0, 0, 0, 0, 0, 0, 0, 0, 0, 0, 0, 0, 0, 0],\n",
              "       [0, 0, 0, 0, 0, 0, 0, 0, 0, 0, 0, 0, 0, 0, 0, 0, 0, 0, 0, 0],\n",
              "       [0, 0, 0, 0, 0, 0, 0, 0, 0, 0, 0, 0, 0, 0, 0, 0, 0, 0, 0, 0],\n",
              "       [0, 0, 0, 0, 0, 0, 0, 0, 0, 0, 0, 0, 0, 0, 0, 0, 0, 0, 0, 0],\n",
              "       [0, 0, 0, 0, 0, 0, 0, 0, 0, 0, 0, 0, 0, 0, 0, 0, 0, 0, 0, 0],\n",
              "       [0, 0, 0, 0, 0, 0, 0, 0, 0, 0, 0, 0, 0, 0, 0, 0, 0, 0, 0, 0],\n",
              "       [0, 0, 0, 0, 0, 0, 0, 2, 2, 2, 2, 2, 0, 0, 0, 0, 0, 0, 0, 0],\n",
              "       [0, 0, 0, 0, 0, 0, 2, 2, 2, 2, 2, 2, 2, 0, 0, 0, 0, 0, 0, 0],\n",
              "       [0, 0, 0, 0, 0, 0, 2, 2, 2, 2, 2, 2, 2, 0, 0, 0, 0, 0, 0, 0],\n",
              "       [0, 0, 0, 0, 0, 0, 2, 2, 2, 2, 2, 2, 2, 0, 0, 0, 0, 0, 0, 0],\n",
              "       [0, 0, 0, 0, 0, 0, 2, 2, 2, 2, 2, 2, 2, 0, 0, 0, 0, 0, 0, 0],\n",
              "       [0, 0, 0, 0, 0, 0, 2, 2, 2, 2, 2, 2, 2, 0, 0, 0, 0, 0, 0, 0],\n",
              "       [0, 0, 0, 0, 0, 0, 0, 2, 2, 2, 2, 2, 0, 0, 0, 0, 0, 0, 0, 0],\n",
              "       [0, 0, 0, 0, 0, 0, 0, 1, 1, 1, 1, 1, 0, 0, 0, 0, 0, 0, 0, 0],\n",
              "       [0, 0, 0, 0, 0, 0, 1, 1, 1, 1, 1, 1, 1, 0, 0, 0, 0, 0, 0, 0],\n",
              "       [0, 0, 0, 0, 0, 0, 1, 1, 1, 1, 1, 1, 1, 0, 0, 0, 0, 0, 0, 0],\n",
              "       [0, 0, 0, 0, 0, 0, 1, 1, 1, 1, 1, 1, 1, 0, 0, 0, 0, 0, 0, 0],\n",
              "       [0, 0, 0, 0, 0, 0, 1, 1, 1, 1, 1, 1, 1, 0, 0, 0, 0, 0, 0, 0],\n",
              "       [0, 0, 0, 0, 0, 0, 1, 1, 1, 1, 1, 1, 1, 0, 0, 0, 0, 0, 0, 0],\n",
              "       [0, 0, 0, 0, 0, 0, 0, 1, 1, 1, 1, 1, 0, 0, 0, 0, 0, 0, 0, 0]],\n",
              "      dtype=uint8)"
            ]
          },
          "metadata": {
            "tags": []
          },
          "execution_count": 12
        }
      ]
    },
    {
      "metadata": {
        "id": "X0qMejsNUpUa",
        "colab_type": "code",
        "outputId": "73b33005-98b1-46ed-ef81-cc2c083cf1cf",
        "colab": {
          "base_uri": "https://localhost:8080/",
          "height": 1547
        }
      },
      "cell_type": "code",
      "source": [
        "gt = numpy.zeros((1, 1, 20, 20), dtype=numpy.float32)\n",
        "rr, cc = skimage.draw.circle(16, 9, 4)\n",
        "gt[0, 0, rr, cc] = 1\n",
        "c_ids = numpy.zeros((1, 1), dtype=numpy.float32)\n",
        "c_ids[0, 0] = 1\n",
        "pred = numpy.zeros((1, 1, 20, 20, 2), dtype=numpy.float32)\n",
        "for g in range(1, 11):\n",
        "  print('confidence %f' % (g / 10))\n",
        "  for i in range(9, 17):\n",
        "\n",
        "    rr, cc = skimage.draw.circle(i, 9, 4)\n",
        "    pred[0, 0, rr, cc, 1] = g / 10\n",
        "    #print(pred[0, 0, :, :, 1])\n",
        "    print(mrcnn_mask_loss_graph(gt, c_ids, pred))\n",
        "    pred[0, 0, :, :, 1] = 0"
      ],
      "execution_count": 0,
      "outputs": [
        {
          "output_type": "stream",
          "text": [
            "confidence 0.100000\n",
            "tf.Tensor(0.19318178, shape=(), dtype=float32)\n",
            "tf.Tensor(0.17315778, shape=(), dtype=float32)\n",
            "tf.Tensor(0.15364437, shape=(), dtype=float32)\n",
            "tf.Tensor(0.12718341, shape=(), dtype=float32)\n",
            "tf.Tensor(0.10172323, shape=(), dtype=float32)\n",
            "tf.Tensor(0.077263854, shape=(), dtype=float32)\n",
            "tf.Tensor(0.053805266, shape=(), dtype=float32)\n",
            "tf.Tensor(0.031347465, shape=(), dtype=float32)\n",
            "confidence 0.200000\n",
            "tf.Tensor(0.38776094, shape=(), dtype=float32)\n",
            "tf.Tensor(0.3404992, shape=(), dtype=float32)\n",
            "tf.Tensor(0.29539868, shape=(), dtype=float32)\n",
            "tf.Tensor(0.23588891, shape=(), dtype=float32)\n",
            "tf.Tensor(0.18061529, shape=(), dtype=float32)\n",
            "tf.Tensor(0.12957776, shape=(), dtype=float32)\n",
            "tf.Tensor(0.08277636, shape=(), dtype=float32)\n",
            "tf.Tensor(0.04021107, shape=(), dtype=float32)\n",
            "confidence 0.300000\n",
            "tf.Tensor(0.58411175, shape=(), dtype=float32)\n",
            "tf.Tensor(0.50345683, shape=(), dtype=float32)\n",
            "tf.Tensor(0.4278311, shape=(), dtype=float32)\n",
            "tf.Tensor(0.33040428, shape=(), dtype=float32)\n",
            "tf.Tensor(0.24283475, shape=(), dtype=float32)\n",
            "tf.Tensor(0.16512252, shape=(), dtype=float32)\n",
            "tf.Tensor(0.09726759, shape=(), dtype=float32)\n",
            "tf.Tensor(0.03926999, shape=(), dtype=float32)\n",
            "confidence 0.400000\n",
            "tf.Tensor(0.78278226, shape=(), dtype=float32)\n",
            "tf.Tensor(0.6627501, shape=(), dtype=float32)\n",
            "tf.Tensor(0.55188346, shape=(), dtype=float32)\n",
            "tf.Tensor(0.41206807, shape=(), dtype=float32)\n",
            "tf.Tensor(0.29021686, shape=(), dtype=float32)\n",
            "tf.Tensor(0.18632999, shape=(), dtype=float32)\n",
            "tf.Tensor(0.1004073, shape=(), dtype=float32)\n",
            "tf.Tensor(0.032448914, shape=(), dtype=float32)\n",
            "confidence 0.500000\n",
            "tf.Tensor(0.984622, shape=(), dtype=float32)\n",
            "tf.Tensor(0.81923556, shape=(), dtype=float32)\n",
            "tf.Tensor(0.66846395, shape=(), dtype=float32)\n",
            "tf.Tensor(0.48193678, shape=(), dtype=float32)\n",
            "tf.Tensor(0.32405487, shape=(), dtype=float32)\n",
            "tf.Tensor(0.19481805, shape=(), dtype=float32)\n",
            "tf.Tensor(0.09422637, shape=(), dtype=float32)\n",
            "tf.Tensor(0.022279851, shape=(), dtype=float32)\n",
            "confidence 0.600000\n",
            "tf.Tensor(1.1910542, shape=(), dtype=float32)\n",
            "tf.Tensor(0.9742229, shape=(), dtype=float32)\n",
            "tf.Tensor(0.7788151, shape=(), dtype=float32)\n",
            "tf.Tensor(0.54123545, shape=(), dtype=float32)\n",
            "tf.Tensor(0.34564573, shape=(), dtype=float32)\n",
            "tf.Tensor(0.19204603, shape=(), dtype=float32)\n",
            "tf.Tensor(0.080436245, shape=(), dtype=float32)\n",
            "tf.Tensor(0.010816371, shape=(), dtype=float32)\n",
            "confidence 0.700000\n",
            "tf.Tensor(1.404747, shape=(), dtype=float32)\n",
            "tf.Tensor(1.1300883, shape=(), dtype=float32)\n",
            "tf.Tensor(0.88507366, shape=(), dtype=float32)\n",
            "tf.Tensor(0.5918549, shape=(), dtype=float32)\n",
            "tf.Tensor(0.35673818, shape=(), dtype=float32)\n",
            "tf.Tensor(0.17972344, shape=(), dtype=float32)\n",
            "tf.Tensor(0.06081079, shape=(), dtype=float32)\n",
            "tf.Tensor(1.0409619e-07, shape=(), dtype=float32)\n",
            "confidence 0.800000\n",
            "tf.Tensor(1.6316905, shape=(), dtype=float32)\n",
            "tf.Tensor(1.292113, shape=(), dtype=float32)\n",
            "tf.Tensor(0.99188167, shape=(), dtype=float32)\n",
            "tf.Tensor(0.6376595, shape=(), dtype=float32)\n",
            "tf.Tensor(0.360556, shape=(), dtype=float32)\n",
            "tf.Tensor(0.16057135, shape=(), dtype=float32)\n",
            "tf.Tensor(0.037705265, shape=(), dtype=float32)\n",
            "tf.Tensor(1.00000015e-07, shape=(), dtype=float32)\n",
            "confidence 0.900000\n",
            "tf.Tensor(1.8909981, shape=(), dtype=float32)\n",
            "tf.Tensor(1.4771376, shape=(), dtype=float32)\n",
            "tf.Tensor(1.1139243, shape=(), dtype=float32)\n",
            "tf.Tensor(0.6905127, shape=(), dtype=float32)\n",
            "tf.Tensor(0.36636966, shape=(), dtype=float32)\n",
            "tf.Tensor(0.14149499, shape=(), dtype=float32)\n",
            "tf.Tensor(0.040295314, shape=(), dtype=float32)\n",
            "tf.Tensor(1.00000015e-07, shape=(), dtype=float32)\n",
            "confidence 1.000000\n",
            "tf.Tensor(3.606804, shape=(), dtype=float32)\n",
            "tf.Tensor(2.950205, shape=(), dtype=float32)\n",
            "tf.Tensor(2.357567, shape=(), dtype=float32)\n",
            "tf.Tensor(1.6353278, shape=(), dtype=float32)\n",
            "tf.Tensor(1.0384514, shape=(), dtype=float32)\n",
            "tf.Tensor(0.5669381, shape=(), dtype=float32)\n",
            "tf.Tensor(0.27899182, shape=(), dtype=float32)\n",
            "tf.Tensor(1.00000015e-07, shape=(), dtype=float32)\n"
          ],
          "name": "stdout"
        }
      ]
    },
    {
      "metadata": {
        "id": "9ukEIFx45g8J",
        "colab_type": "text"
      },
      "cell_type": "markdown",
      "source": [
        "version 0"
      ]
    },
    {
      "metadata": {
        "id": "gHvvoRn8lPP1",
        "colab_type": "code",
        "colab": {}
      },
      "cell_type": "code",
      "source": [
        "def mrcnn_mask_loss_graph(target_masks, target_class_ids, pred_masks):\n",
        "    \"\"\"Mask binary cross-entropy loss for the masks head.\n",
        "    target_masks: [batch, num_rois, height, width].\n",
        "        A float32 tensor of values 0 or 1. Uses zero padding to fill array.\n",
        "    target_class_ids: [batch, num_rois]. Integer class IDs. Zero padded.\n",
        "    pred_masks: [batch, proposals, height, width, num_classes] float32 tensor\n",
        "                with values from 0 to 1.\n",
        "    \"\"\"\n",
        "    # Reshape for simplicity. Merge first two dimensions into one.\n",
        "    target_class_ids = K.reshape(target_class_ids, (-1,))\n",
        "    mask_shape = tf.shape(target_masks)\n",
        "    target_masks = K.reshape(target_masks, (-1, mask_shape[2], mask_shape[3]))\n",
        "    pred_shape = tf.shape(pred_masks)\n",
        "    pred_masks = K.reshape(pred_masks,\n",
        "                           (-1, pred_shape[2], pred_shape[3], pred_shape[4]))\n",
        "    # Permute predicted masks to [N, num_classes, height, width]\n",
        "    pred_masks = tf.transpose(pred_masks, [0, 3, 1, 2])\n",
        "\n",
        "    # Only positive ROIs contribute to the loss. And only\n",
        "    # the class specific mask of each ROI.\n",
        "    positive_ix = tf.where(target_class_ids > 0)[:, 0]\n",
        "    positive_class_ids = tf.cast(\n",
        "        tf.gather(target_class_ids, positive_ix), tf.int64)\n",
        "    indices = tf.stack([positive_ix, positive_class_ids], axis=1)\n",
        "\n",
        "    # Gather the masks (predicted and true) that contribute to loss\n",
        "    y_true = tf.gather(target_masks, positive_ix)\n",
        "    y_pred = tf.gather_nd(pred_masks, indices)\n",
        "    \n",
        "#     m_zer = tf.constant(0.0, dtype=tf.float32)\n",
        "#     m_one = tf.constant(1.0, dtype=tf.float32)\n",
        "#     m_sev = tf.constant(0.7, dtype=tf.float32)\n",
        "#     outside = tf.count_nonzero(tf.multiply(tf.subtract(m_one, y_true), y_pred), dtype=tf.float32)\n",
        "#     inside = tf.divide(tf.count_nonzero(tf.multiply(y_true, y_pred), dtype=tf.float32), tf.count_nonzero(y_true, dtype=tf.float32))\n",
        "#     factor = tf.cond(tf.less(inside, m_sev), lambda: tf.subtract(m_one, tf.divide(inside, m_sev)), lambda: m_zer)\n",
        "\n",
        "    # Compute binary cross entropy. If no positive ROIs, then return 0.\n",
        "    # shape: [batch, roi, num_classes]\n",
        "    loss = K.switch(tf.size(y_true) > 0,\n",
        "                    K.binary_crossentropy(target=y_true, output=y_pred),\n",
        "                    tf.constant(0.0))\n",
        "    loss = K.mean(loss)\n",
        "#     print(loss)\n",
        "#     print(outside)\n",
        "#     lolz = tf.multiply(tf.cast(factor, tf.float32), loss)\n",
        "#     print(lolz)\n",
        "    return loss#tf.add(outside, tf.multiply(factor, loss))"
      ],
      "execution_count": 0,
      "outputs": []
    },
    {
      "metadata": {
        "id": "krduo_Y1lUQe",
        "colab_type": "text"
      },
      "cell_type": "markdown",
      "source": [
        "https://stackoverflow.com/questions/44657388/how-to-replace-certain-values-in-tensorflow-tensor-with-the-values-of-the-other?rq=1"
      ]
    },
    {
      "metadata": {
        "id": "1IkCQLUWlUqu",
        "colab_type": "text"
      },
      "cell_type": "markdown",
      "source": [
        "to calculate area masked but not in ground truth, multiply zeroed GT with predicted and count non zeros\n",
        "\n",
        "if that is zero, then compute percentage P, how much of the ground truth is predicted.\n",
        "\n",
        "substract by 100\n",
        "if 100-P > 30, then apply binary cross entropy?\n",
        "\n",
        "WIP TODO"
      ]
    },
    {
      "metadata": {
        "id": "9p0DSF46lt8M",
        "colab_type": "text"
      },
      "cell_type": "markdown",
      "source": [
        "https://stackoverflow.com/questions/35833011/how-to-add-if-condition-in-a-tensorflow-graph"
      ]
    },
    {
      "metadata": {
        "id": "nbrtJoavJPC5",
        "colab_type": "code",
        "colab": {}
      },
      "cell_type": "code",
      "source": [
        "gt = numpy.zeros((1, 1, 28, 28), dtype=numpy.float32)\n",
        "c_ids = numpy.zeros((1, 1), dtype=numpy.float32)\n",
        "c_ids[0, 0] = 1\n",
        "pred = numpy.zeros((1, 1, 28, 28, 2), dtype=numpy.float32)\n",
        "pred[0, 0, :, :, 0] = 0\n",
        "pred[0, 0, :, :, 1] = 1"
      ],
      "execution_count": 0,
      "outputs": []
    },
    {
      "metadata": {
        "id": "pjgNQmDqK8MX",
        "colab_type": "code",
        "colab": {}
      },
      "cell_type": "code",
      "source": [
        "lmao = mrcnn_mask_loss_graph(gt, c_ids, pred)"
      ],
      "execution_count": 0,
      "outputs": []
    },
    {
      "metadata": {
        "id": "fiWIEGyhLbVm",
        "colab_type": "code",
        "outputId": "f790343d-45d5-4dc1-ed7c-252e9d9c0989",
        "colab": {
          "base_uri": "https://localhost:8080/",
          "height": 34
        }
      },
      "cell_type": "code",
      "source": [
        "type(lmao)"
      ],
      "execution_count": 0,
      "outputs": [
        {
          "output_type": "execute_result",
          "data": {
            "text/plain": [
              "tensorflow.python.framework.ops.EagerTensor"
            ]
          },
          "metadata": {
            "tags": []
          },
          "execution_count": 13
        }
      ]
    },
    {
      "metadata": {
        "id": "krO_Ye1kL5Jd",
        "colab_type": "code",
        "outputId": "5006bdbe-44ee-4ff8-d2f0-4af9399829aa",
        "colab": {
          "base_uri": "https://localhost:8080/",
          "height": 34
        }
      },
      "cell_type": "code",
      "source": [
        "lmao"
      ],
      "execution_count": 0,
      "outputs": [
        {
          "output_type": "execute_result",
          "data": {
            "text/plain": [
              "<tf.Tensor: id=157, shape=(), dtype=float32, numpy=15.942384>"
            ]
          },
          "metadata": {
            "tags": []
          },
          "execution_count": 11
        }
      ]
    },
    {
      "metadata": {
        "id": "cSnIyICHNQMb",
        "colab_type": "code",
        "colab": {}
      },
      "cell_type": "code",
      "source": [
        "#tf.print()"
      ],
      "execution_count": 0,
      "outputs": []
    },
    {
      "metadata": {
        "id": "ILQFLk33OTha",
        "colab_type": "code",
        "colab": {}
      },
      "cell_type": "code",
      "source": [
        "import sys"
      ],
      "execution_count": 0,
      "outputs": []
    },
    {
      "metadata": {
        "id": "ZhBT-cEiOUsj",
        "colab_type": "code",
        "colab": {}
      },
      "cell_type": "code",
      "source": [
        "tf.enable_eager_execution()\n",
        "\n",
        "@tf.contrib.eager.defun\n",
        "def f():\n",
        "    tensor = tf.range(10)\n",
        "    tf.print(tensor, output_stream=sys.stderr)\n",
        "    return tensor\n",
        "\n",
        "range_tensor = f()"
      ],
      "execution_count": 0,
      "outputs": []
    },
    {
      "metadata": {
        "id": "wg6Bvdv-OrB5",
        "colab_type": "code",
        "outputId": "8bb66a04-697c-4f57-80f5-77580327c1ad",
        "colab": {
          "base_uri": "https://localhost:8080/",
          "height": 34
        }
      },
      "cell_type": "code",
      "source": [
        "range_tensor"
      ],
      "execution_count": 0,
      "outputs": [
        {
          "output_type": "execute_result",
          "data": {
            "text/plain": [
              "<tf.Tensor: id=9, shape=(10,), dtype=int32, numpy=array([0, 1, 2, 3, 4, 5, 6, 7, 8, 9], dtype=int32)>"
            ]
          },
          "metadata": {
            "tags": []
          },
          "execution_count": 7
        }
      ]
    },
    {
      "metadata": {
        "id": "CyJJGjAlONjb",
        "colab_type": "code",
        "colab": {}
      },
      "cell_type": "code",
      "source": [
        "tf.enable_eager_execution()\n",
        "tensor = tf.range(10)\n",
        "tf.print(tensor, output_stream=sys.stderr)"
      ],
      "execution_count": 0,
      "outputs": []
    },
    {
      "metadata": {
        "id": "LiWrYnNrNjzK",
        "colab_type": "code",
        "colab": {}
      },
      "cell_type": "code",
      "source": [
        "sess = K.get_session()\n",
        "with sess.as_default():\n",
        "  tensor = tf.range(10)\n",
        "  print_op = tf.print(tensor)\n",
        "  with tf.control_dependencies([print_op]):\n",
        "    out = tf.add(tensor, tensor)\n",
        "  sess.run(out)"
      ],
      "execution_count": 0,
      "outputs": []
    },
    {
      "metadata": {
        "id": "_fELlri6MjtE",
        "colab_type": "code",
        "colab": {}
      },
      "cell_type": "code",
      "source": [
        "# sess = tf.Session()\n",
        "# with sess.as_default():\n",
        "#     lmao = mrcnn_mask_loss_graph(gt, c_ids, pred)\n",
        "#     print_op = tf.print(tensor)\n",
        "#     with tf.control_dependencies([print_op]):\n",
        "#       out = tf.add(tensor, tensor)\n",
        "#     sess.run(out)"
      ],
      "execution_count": 0,
      "outputs": []
    },
    {
      "metadata": {
        "id": "w_7f3wYK5Rmz",
        "colab_type": "text"
      },
      "cell_type": "markdown",
      "source": [
        "version 1"
      ]
    },
    {
      "metadata": {
        "id": "DmTf-81KjQHw",
        "colab_type": "code",
        "colab": {}
      },
      "cell_type": "code",
      "source": [
        "def mrcnn_mask_loss_graph(target_masks, target_class_ids, pred_masks):\n",
        "    \"\"\"Mask binary cross-entropy loss for the masks head.\n",
        "\n",
        "    target_masks: [batch, num_rois, height, width].\n",
        "        A float32 tensor of values 0 or 1. Uses zero padding to fill array.\n",
        "    target_class_ids: [batch, num_rois]. Integer class IDs. Zero padded.\n",
        "    pred_masks: [batch, proposals, height, width, num_classes] float32 tensor\n",
        "                with values from 0 to 1.\n",
        "    \"\"\"\n",
        "    # Reshape for simplicity. Merge first two dimensions into one.\n",
        "    target_class_ids = K.reshape(target_class_ids, (-1,))\n",
        "    mask_shape = tf.shape(target_masks)\n",
        "    target_masks = K.reshape(target_masks, (-1, mask_shape[2], mask_shape[3]))\n",
        "    pred_shape = tf.shape(pred_masks)\n",
        "    pred_masks = K.reshape(pred_masks,\n",
        "                           (-1, pred_shape[2], pred_shape[3], pred_shape[4]))\n",
        "    # Permute predicted masks to [N, num_classes, height, width]\n",
        "    pred_masks = tf.transpose(pred_masks, [0, 3, 1, 2])\n",
        "\n",
        "    # Only positive ROIs contribute to the loss. And only\n",
        "    # the class specific mask of each ROI.\n",
        "    positive_ix = tf.where(target_class_ids > 0)[:, 0]\n",
        "    positive_class_ids = tf.cast(\n",
        "        tf.gather(target_class_ids, positive_ix), tf.int64)\n",
        "    indices = tf.stack([positive_ix, positive_class_ids], axis=1)\n",
        "\n",
        "\t#################\n",
        "\t# CUSTOM LOSS CODE BY DEREK ZHANG\n",
        "\t# BCE = Binary Cross Entropy\n",
        "\t# return (BCE outside GT mask) + (BCE inside GT mask) * ((percent GT mask predicted < 70%) ? (percent GT mask predicted / 70%) : 0)\n",
        "\t#################\n",
        "\n",
        "\tm_zer = tf.constant(0.0, dtype=tf.float32)\n",
        "    m_one = tf.constant(1.0, dtype=tf.float32)\n",
        "    m_sev = tf.constant(0.7, dtype=tf.float32)\n",
        "    outside = tf.multiply(tf.subtract(m_one, y_true), y_pred)\n",
        "    inside = tf.multiply(y_true, y_pred)\n",
        "    inside_ratio = tf.divide(tf.count_nonzero(inside, dtype=tf.float32), tf.count_nonzero(y_true, dtype=tf.float32))\n",
        "    factor = tf.cond(tf.less(inside_ratio, m_sev), lambda: tf.subtract(m_one, tf.divide(inside_ratio, m_sev)), lambda: m_zer)\n",
        "\n",
        "    # Compute binary cross entropy. If no positive ROIs, then return 0.\n",
        "    # shape: [batch, roi, num_classes]\n",
        "    loss = K.switch(tf.size(y_true) > 0,\n",
        "                    K.binary_crossentropy(target=tf.zeros_like(outside), output=outside),\n",
        "                    tf.constant(0.0))\n",
        "    loss = K.mean(loss)\n",
        "\n",
        "    loss_in = K.switch(tf.size(y_true) > 0,\n",
        "                    K.binary_crossentropy(target=y_pred, output=inside),\n",
        "                    tf.constant(0.0))\n",
        "    loss_in = K.mean(loss_in)\n",
        "\n",
        "    return tf.add(loss, tf.multiply(factor, loss_in))"
      ],
      "execution_count": 0,
      "outputs": []
    },
    {
      "metadata": {
        "id": "QmQo_VFk5Tiy",
        "colab_type": "text"
      },
      "cell_type": "markdown",
      "source": [
        "failed version 3"
      ]
    },
    {
      "metadata": {
        "id": "p2ygd6xQfq8m",
        "colab_type": "code",
        "colab": {}
      },
      "cell_type": "code",
      "source": [
        "def not_good_enough_mask(inside_ratio, y_true, y_pred, inside):\n",
        "\n",
        "    m_one = tf.constant(1.0, dtype=tf.float32)\n",
        "    m_sev = tf.constant(0.7, dtype=tf.float32)\n",
        "    factor = tf.subtract(m_one, tf.divide(inside_ratio, m_sev))\n",
        "    loss_in = K.switch(tf.size(y_true) > 0,\n",
        "                    K.binary_crossentropy(target=y_pred, output=inside),\n",
        "                    tf.constant(0.0))\n",
        "    loss_in = K.mean(loss_in)\n",
        "    return tf.multiply(factor, loss_in)\n",
        "  #min(x/0.7, 1)"
      ],
      "execution_count": 0,
      "outputs": []
    },
    {
      "metadata": {
        "id": "ztOAZNemfINm",
        "colab_type": "code",
        "colab": {}
      },
      "cell_type": "code",
      "source": [
        "def good_enough_mask(inside):\n",
        "  \n",
        "  m_one = tf.constant(1.0, dtype=tf.float32)\n",
        "  \n",
        "  return tf.subtract(m_one, K.mean(inside))"
      ],
      "execution_count": 0,
      "outputs": []
    },
    {
      "metadata": {
        "id": "9nxDhcHMlCQE",
        "colab_type": "code",
        "colab": {}
      },
      "cell_type": "code",
      "source": [
        "def mrcnn_mask_loss_graph(target_masks, target_class_ids, pred_masks):\n",
        "    \"\"\"Mask binary cross-entropy loss for the masks head.\n",
        "\n",
        "    target_masks: [batch, num_rois, height, width].\n",
        "        A float32 tensor of values 0 or 1. Uses zero padding to fill array.\n",
        "    target_class_ids: [batch, num_rois]. Integer class IDs. Zero padded.\n",
        "    pred_masks: [batch, proposals, height, width, num_classes] float32 tensor\n",
        "                with values from 0 to 1.\n",
        "    \"\"\"\n",
        "    # Reshape for simplicity. Merge first two dimensions into one.\n",
        "    target_class_ids = K.reshape(target_class_ids, (-1,))\n",
        "    mask_shape = tf.shape(target_masks)\n",
        "    target_masks = K.reshape(target_masks, (-1, mask_shape[2], mask_shape[3]))\n",
        "    pred_shape = tf.shape(pred_masks)\n",
        "    pred_masks = K.reshape(pred_masks,\n",
        "                           (-1, pred_shape[2], pred_shape[3], pred_shape[4]))\n",
        "    # Permute predicted masks to [N, num_classes, height, width]\n",
        "    pred_masks = tf.transpose(pred_masks, [0, 3, 1, 2])\n",
        "\n",
        "    # Only positive ROIs contribute to the loss. And only\n",
        "    # the class specific mask of each ROI.\n",
        "    positive_ix = tf.where(target_class_ids > 0)[:, 0]\n",
        "    positive_class_ids = tf.cast(\n",
        "        tf.gather(target_class_ids, positive_ix), tf.int64)\n",
        "    indices = tf.stack([positive_ix, positive_class_ids], axis=1)\n",
        "    \n",
        "    # Gather the masks (predicted and true) that contribute to loss\n",
        "    y_true = tf.gather(target_masks, positive_ix)\n",
        "    y_pred = tf.gather_nd(pred_masks, indices)\n",
        "\n",
        "    #################\n",
        "    # CUSTOM LOSS CODE BY DEREK ZHANG\n",
        "    # BCE = Binary Cross Entropy\n",
        "    # return (BCE outside GT mask) + (BCE inside GT mask) * ((percent GT mask predicted < 70%) ? (percent GT mask predicted / 70%) : 0)\n",
        "    #################\n",
        "\n",
        "    #m_zer = tf.constant(0.0, dtype=tf.float32)\n",
        "    m_one = tf.constant(1.0, dtype=tf.float32)\n",
        "    m_sev = tf.constant(0.7, dtype=tf.float32)\n",
        "    outside = tf.multiply(tf.subtract(m_one, y_true), y_pred)\n",
        "    inside = tf.multiply(y_true, y_pred)\n",
        "    inside_ratio = tf.divide(tf.count_nonzero(inside, dtype=tf.float32), tf.count_nonzero(y_true, dtype=tf.float32))\n",
        "    inside_stuff = tf.cond(tf.less(inside_ratio, m_sev), not_good_enough_mask(inside_ratio, y_true, y_pred, inside), lambda: good_enough_mask(inside))\n",
        "\n",
        "    # Compute binary cross entropy. If no positive ROIs, then return 0.\n",
        "    # shape: [batch, roi, num_classes]\n",
        "    loss = K.switch(tf.size(y_true) > 0,\n",
        "                    K.binary_crossentropy(target=tf.zeros_like(outside), output=outside),\n",
        "                    tf.constant(0.0))\n",
        "    loss = K.mean(loss)\n",
        "\n",
        "    return tf.add(loss, inside_stuff)"
      ],
      "execution_count": 0,
      "outputs": []
    },
    {
      "metadata": {
        "id": "fsewbwG15WRo",
        "colab_type": "text"
      },
      "cell_type": "markdown",
      "source": [
        "failed version 2"
      ]
    },
    {
      "metadata": {
        "id": "aSSMhEoUQ14h",
        "colab_type": "code",
        "colab": {}
      },
      "cell_type": "code",
      "source": [
        "def mrcnn_mask_loss_graph(target_masks, target_class_ids, pred_masks):\n",
        "    \"\"\"Mask binary cross-entropy loss for the masks head.\n",
        "    target_masks: [batch, num_rois, height, width].\n",
        "        A float32 tensor of values 0 or 1. Uses zero padding to fill array.\n",
        "    target_class_ids: [batch, num_rois]. Integer class IDs. Zero padded.\n",
        "    pred_masks: [batch, proposals, height, width, num_classes] float32 tensor\n",
        "                with values from 0 to 1.\n",
        "    \"\"\"\n",
        "    # Reshape for simplicity. Merge first two dimensions into one.\n",
        "    target_class_ids = K.reshape(target_class_ids, (-1,))\n",
        "    mask_shape = tf.shape(target_masks)\n",
        "    target_masks = K.reshape(target_masks, (-1, mask_shape[2], mask_shape[3]))\n",
        "    pred_shape = tf.shape(pred_masks)\n",
        "    pred_masks = K.reshape(pred_masks,\n",
        "                           (-1, pred_shape[2], pred_shape[3], pred_shape[4]))\n",
        "    # Permute predicted masks to [N, num_classes, height, width]\n",
        "    pred_masks = tf.transpose(pred_masks, [0, 3, 1, 2])\n",
        "\n",
        "    # Only positive ROIs contribute to the loss. And only\n",
        "    # the class specific mask of each ROI.\n",
        "    positive_ix = tf.where(target_class_ids > 0)[:, 0]\n",
        "    positive_class_ids = tf.cast(\n",
        "        tf.gather(target_class_ids, positive_ix), tf.int64)\n",
        "    indices = tf.stack([positive_ix, positive_class_ids], axis=1)\n",
        "\n",
        "    # Gather the masks (predicted and true) that contribute to loss\n",
        "    y_true = tf.gather(target_masks, positive_ix)\n",
        "    y_pred = tf.gather_nd(pred_masks, indices)\n",
        "    \n",
        "    m_zer = tf.constant(0.0, dtype=tf.float32)\n",
        "    m_one = tf.constant(1.0, dtype=tf.float32)\n",
        "    m_sev = tf.constant(0.7, dtype=tf.float32)\n",
        "    outside = tf.multiply(tf.subtract(m_one, y_true), y_pred)\n",
        "    inside = tf.multiply(y_true, y_pred)\n",
        "    inside_ratio = tf.divide(tf.count_nonzero(inside, dtype=tf.float32), tf.count_nonzero(y_true, dtype=tf.float32))\n",
        "\n",
        "    output = tf.cond(tf.less(inside_ratio, m_sev), not_good_enough_mask(m_one, inside_ratio, m_sev, inside), good_enough_mask())\n",
        "\n",
        "    \n",
        "    \n",
        "    return tf.add(loss, tf.multiply(factor, loss_in))"
      ],
      "execution_count": 0,
      "outputs": []
    },
    {
      "metadata": {
        "id": "FlVN1is4W5Nc",
        "colab_type": "text"
      },
      "cell_type": "markdown",
      "source": [
        "sanity check"
      ]
    },
    {
      "metadata": {
        "id": "SzMEkxhJVU8a",
        "colab_type": "code",
        "colab": {}
      },
      "cell_type": "code",
      "source": [
        "a = tf.constant(1.0, dtype=tf.float32)\n",
        "b = tf.constant(3.0, dtype=tf.float32)\n",
        "lol = tf.divide(a, b)"
      ],
      "execution_count": 0,
      "outputs": []
    },
    {
      "metadata": {
        "id": "JjJPyJZxVe44",
        "colab_type": "code",
        "outputId": "ab771bd5-8128-426c-a6ff-7fa7d55130c2",
        "colab": {
          "base_uri": "https://localhost:8080/",
          "height": 34
        }
      },
      "cell_type": "code",
      "source": [
        "lol"
      ],
      "execution_count": 0,
      "outputs": [
        {
          "output_type": "execute_result",
          "data": {
            "text/plain": [
              "<tf.Tensor: id=161, shape=(), dtype=float32, numpy=0.33333334>"
            ]
          },
          "metadata": {
            "tags": []
          },
          "execution_count": 16
        }
      ]
    },
    {
      "metadata": {
        "id": "kyyAD21zVf3_",
        "colab_type": "code",
        "outputId": "8564236d-e5e1-4193-d89f-afb27ca5052b",
        "colab": {
          "base_uri": "https://localhost:8080/",
          "height": 34
        }
      },
      "cell_type": "code",
      "source": [
        "tf.multiply(lol, tf.constant(0.2, dtype=tf.float32))"
      ],
      "execution_count": 0,
      "outputs": [
        {
          "output_type": "execute_result",
          "data": {
            "text/plain": [
              "<tf.Tensor: id=167, shape=(), dtype=float32, numpy=0.06666667>"
            ]
          },
          "metadata": {
            "tags": []
          },
          "execution_count": 18
        }
      ]
    }
  ]
}
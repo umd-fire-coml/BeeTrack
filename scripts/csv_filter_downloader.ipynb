{
 "cells": [
  {
   "cell_type": "code",
   "execution_count": 1,
   "metadata": {},
   "outputs": [],
   "source": [
    "from __future__ import print_function\n",
    "import time\n",
    "\n",
    "from apiclient import discovery\n",
    "from httplib2 import Http\n",
    "import oauth2client\n",
    "from oauth2client import file, client, tools"
   ]
  },
  {
   "cell_type": "code",
   "execution_count": 2,
   "metadata": {},
   "outputs": [],
   "source": [
    "obj = lambda: None\n",
    "#obj.a = lambda: None\n",
    "lmao = {\"auth_host_name\":'localhost', 'noauth_local_webserver':'store_true', 'auth_host_port':[8080, 8090], 'logging_level':'ERROR'}\n",
    "for k, v in lmao.items():\n",
    "    setattr(obj, k, v)"
   ]
  },
  {
   "cell_type": "code",
   "execution_count": 3,
   "metadata": {},
   "outputs": [
    {
     "name": "stderr",
     "output_type": "stream",
     "text": [
      "No traceback available to show.\n"
     ]
    }
   ],
   "source": [
    "%tb\n",
    "# authorization boilerplate code\n",
    "SCOPES = 'https://www.googleapis.com/auth/drive.readonly'\n",
    "store = file.Storage('storage.json')\n",
    "creds = store.get()\n",
    "# will give you a link if storage.json does not exist\n",
    "# the link allows the user to give this app permission\n",
    "if not creds or creds.invalid:\n",
    "    flow = client.flow_from_clientsecrets('client_secret.json', SCOPES)\n",
    "    creds = tools.run_flow(flow, store, obj)"
   ]
  },
  {
   "cell_type": "code",
   "execution_count": 4,
   "metadata": {},
   "outputs": [],
   "source": [
    "DRIVE = discovery.build('drive', 'v3', http=creds.authorize(Http()))"
   ]
  },
  {
   "cell_type": "code",
   "execution_count": 5,
   "metadata": {},
   "outputs": [],
   "source": [
    "import io\n",
    "from googleapiclient.http import MediaIoBaseDownload"
   ]
  },
  {
   "cell_type": "code",
   "execution_count": 6,
   "metadata": {},
   "outputs": [],
   "source": [
    "import os, sys"
   ]
  },
  {
   "cell_type": "code",
   "execution_count": 7,
   "metadata": {},
   "outputs": [],
   "source": [
    "r, w = os.pipe()"
   ]
  },
  {
   "cell_type": "code",
   "execution_count": 8,
   "metadata": {},
   "outputs": [],
   "source": [
    "def importer(thingy):\n",
    "    fh = os.fdopen(thingy, \"wb\")\n",
    "    try:\n",
    "        #os.close(r)\n",
    "        # if you open a file in \"new window\", the google link contains this id\n",
    "        file_id = '1-C7tavuSBozVACHJS0xW7GGVLvDO92xL'\n",
    "        request = DRIVE.files().get_media(fileId=file_id)\n",
    "        #fh = io.BytesIO()\n",
    "        # store the file in \"sample.mkv\"\n",
    "        #fh = io.FileIO('sample.mkv', mode='w')\n",
    "        \n",
    "        downloader = MediaIoBaseDownload(fh, request)\n",
    "        done = False\n",
    "        while done is False:\n",
    "            status, done = downloader.next_chunk()\n",
    "            print(\"Download %d%%.\" % int(status.progress() * 100))\n",
    "    except IOError as err:\n",
    "        print(\"I/O error({0})\".format(err))\n",
    "    except ValueError:\n",
    "        print( \"Could not convert data to an integer.\")\n",
    "    except:\n",
    "        #print( \"Unexpected error:\", sys.exc_info()[0])\n",
    "        return sys.exc_info() # finally block should still run\n",
    "        #raise\n",
    "    finally:\n",
    "        fh.close()\n",
    "    return None"
   ]
  },
  {
   "cell_type": "code",
   "execution_count": 9,
   "metadata": {},
   "outputs": [],
   "source": [
    "from multiprocessing.pool import ThreadPool"
   ]
  },
  {
   "cell_type": "code",
   "execution_count": 10,
   "metadata": {},
   "outputs": [],
   "source": [
    "pool = ThreadPool(processes=1)\n",
    "\n",
    "async_result = pool.apply_async(importer, (w,)) # tuple of args for foo"
   ]
  },
  {
   "cell_type": "code",
   "execution_count": 11,
   "metadata": {},
   "outputs": [],
   "source": [
    "fh = os.fdopen(r, \"r\")"
   ]
  },
  {
   "cell_type": "code",
   "execution_count": 12,
   "metadata": {},
   "outputs": [],
   "source": [
    "import pandas as pd"
   ]
  },
  {
   "cell_type": "code",
   "execution_count": 13,
   "metadata": {},
   "outputs": [],
   "source": [
    "start = \"2015-08-23 23:57:07.565098+00\"\n",
    "end = \"2015-08-23 23:57:07.565098+00\""
   ]
  },
  {
   "cell_type": "code",
   "execution_count": 14,
   "metadata": {},
   "outputs": [
    {
     "name": "stdout",
     "output_type": "stream",
     "text": [
      "Download 0%.\n",
      "Download 1%.\n",
      "Download 1%.\n",
      "Download 2%.\n",
      "Download 2%.\n",
      "Download 3%.\n",
      "Download 3%.\n",
      "Download 4%.\n",
      "Download 4%.\n",
      "Download 5%.\n",
      "Download 5%.\n",
      "Download 6%.\n",
      "Download 6%.\n",
      "Download 7%.\n",
      "Download 7%.\n",
      "Download 8%.\n",
      "Download 8%.\n",
      "Download 9%.\n",
      "Download 9%.\n",
      "Download 10%.\n",
      "Download 10%.\n",
      "Download 11%.\n",
      "Download 11%.\n",
      "Download 12%.\n",
      "Download 12%.\n",
      "Download 13%.\n",
      "Download 14%.\n",
      "Download 14%.\n",
      "Download 15%.\n",
      "Download 15%.\n",
      "Download 16%.\n",
      "Download 16%.\n",
      "Download 17%.\n",
      "Download 17%.\n",
      "Download 18%.\n",
      "Download 18%.\n",
      "Download 19%.\n",
      "Download 19%.\n",
      "Download 20%.\n",
      "Download 20%.\n",
      "Download 21%.\n",
      "Download 21%.\n",
      "Download 22%.\n",
      "Download 22%.\n",
      "Download 23%.\n",
      "Download 23%.\n",
      "Download 24%.\n",
      "Download 24%.\n",
      "Download 25%.\n",
      "Download 25%.\n",
      "Download 26%.\n",
      "Download 27%.\n",
      "Download 27%.\n",
      "Download 28%.\n",
      "Download 28%.\n",
      "Download 29%.\n",
      "Download 29%.\n",
      "Download 30%.\n",
      "Download 30%.\n",
      "Download 31%.\n",
      "Download 31%.\n",
      "Download 32%.\n",
      "Download 32%.\n",
      "Download 33%.\n",
      "Download 33%.\n",
      "Download 34%.\n",
      "Download 34%.\n",
      "Download 35%.\n",
      "Download 35%.\n",
      "Download 36%.\n",
      "Download 36%.\n",
      "Download 37%.\n",
      "Download 37%.\n",
      "Download 38%.\n",
      "Download 38%.\n",
      "Download 39%.\n",
      "Download 40%.\n",
      "Download 40%.\n",
      "Download 41%.\n",
      "Download 41%.\n",
      "Download 42%.\n",
      "Download 42%.\n",
      "Download 43%.\n",
      "Download 43%.\n",
      "Download 44%.\n",
      "Download 44%.\n",
      "Download 45%.\n",
      "Download 45%.\n",
      "Download 46%.\n",
      "Download 46%.\n",
      "Download 47%.\n",
      "Download 47%.\n",
      "Download 48%.\n",
      "Download 48%.\n",
      "Download 49%.\n",
      "Download 49%.\n",
      "Download 50%.\n",
      "Download 50%.\n",
      "Download 51%.\n",
      "Download 51%.\n",
      "Download 52%.\n",
      "Download 52%.\n",
      "Download 53%.\n",
      "Download 54%.\n",
      "Download 54%.\n",
      "Download 55%.\n",
      "Download 55%.\n",
      "Download 56%.\n",
      "Download 56%.\n",
      "Download 57%.\n",
      "Download 57%.\n",
      "Download 58%.\n",
      "Download 58%.\n",
      "Download 59%.\n",
      "Download 59%.\n",
      "Download 60%.\n",
      "Download 60%.\n",
      "Download 61%.\n",
      "Download 61%.\n",
      "Download 62%.\n",
      "Download 62%.\n",
      "Download 63%.\n",
      "Download 63%.\n",
      "Download 64%.\n",
      "Download 64%.\n",
      "Download 65%.\n",
      "Download 65%.\n",
      "Download 66%.\n",
      "Download 67%.\n",
      "Download 67%.\n",
      "Download 68%.\n",
      "Download 68%.\n",
      "Download 69%.\n",
      "Download 69%.\n",
      "Download 70%.\n",
      "Download 70%.\n",
      "Download 71%.\n",
      "Download 71%.\n",
      "Download 72%.\n",
      "Download 72%.\n",
      "Download 73%.\n",
      "Download 73%.\n",
      "Download 74%.\n",
      "Download 74%.\n",
      "Download 75%.\n",
      "Download 75%.\n",
      "Download 76%.\n",
      "Download 76%.\n",
      "Download 77%.\n",
      "Download 77%.\n",
      "Download 78%.\n",
      "Download 78%.\n",
      "Download 79%.\n",
      "Download 80%.\n",
      "Download 80%.\n",
      "Download 81%.\n",
      "Download 81%.\n",
      "Download 82%.\n",
      "Download 82%.\n",
      "Download 83%.\n",
      "Download 83%.\n",
      "Download 84%.\n",
      "Download 84%.\n",
      "Download 85%.\n",
      "Download 85%.\n",
      "Download 86%.\n",
      "Download 86%.\n",
      "Download 87%.\n",
      "Download 87%.\n",
      "Download 88%.\n",
      "Download 88%.\n",
      "Download 89%.\n",
      "Download 89%.\n",
      "Download 90%.\n",
      "Download 90%.\n",
      "Download 91%.\n",
      "Download 91%.\n",
      "Download 92%.\n",
      "Download 93%.\n",
      "Download 93%.\n",
      "Download 94%.\n",
      "Download 94%.\n",
      "Download 95%.\n",
      "Download 95%.\n",
      "Download 96%.\n",
      "Download 96%.\n",
      "Download 97%.\n",
      "Download 97%.\n",
      "Download 98%.\n",
      "Download 98%.\n",
      "Download 99%.\n",
      "Download 99%.\n",
      "Download 100%.\n"
     ]
    }
   ],
   "source": [
    "with open('my_csv.csv', 'a') as output:\n",
    "    \n",
    "    chunker = pd.read_csv(fh, header=0, chunksize=200000)\n",
    "    \n",
    "    df = next(chunker)\n",
    "    df[(df.timestamp >= start) & (df.timestamp <= end)].to_csv(output, header=True, index=False)\n",
    "\n",
    "\n",
    "    for df in chunker:\n",
    "        df[(df.timestamp >= start) & (df.timestamp <= end)].to_csv(output, header=False, index=False)"
   ]
  },
  {
   "cell_type": "code",
   "execution_count": 15,
   "metadata": {},
   "outputs": [
    {
     "name": "stdout",
     "output_type": "stream",
     "text": [
      "I/O error([Errno 32] Broken pipe)\n"
     ]
    }
   ],
   "source": [
    "fh.close()"
   ]
  },
  {
   "cell_type": "code",
   "execution_count": null,
   "metadata": {},
   "outputs": [],
   "source": [
    "#run in case of error\n",
    "return_val = async_result.get(False)\n",
    "print(return_val)"
   ]
  }
 ],
 "metadata": {
  "kernelspec": {
   "display_name": "Python 3",
   "language": "python",
   "name": "python3"
  },
  "language_info": {
   "codemirror_mode": {
    "name": "ipython",
    "version": 3
   },
   "file_extension": ".py",
   "mimetype": "text/x-python",
   "name": "python",
   "nbconvert_exporter": "python",
   "pygments_lexer": "ipython3",
   "version": "3.6.6"
  }
 },
 "nbformat": 4,
 "nbformat_minor": 2
}
